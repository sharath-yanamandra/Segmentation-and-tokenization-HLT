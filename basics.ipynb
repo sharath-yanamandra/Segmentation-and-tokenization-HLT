{
 "cells": [
  {
   "cell_type": "markdown",
   "metadata": {},
   "source": [
    "### slicing , indexing"
   ]
  },
  {
   "cell_type": "code",
   "execution_count": 1,
   "metadata": {},
   "outputs": [],
   "source": [
    "mystr = \"bobby is a good boy and he is innocent haha\""
   ]
  },
  {
   "cell_type": "code",
   "execution_count": 2,
   "metadata": {},
   "outputs": [
    {
     "data": {
      "text/plain": [
       "'bobby is a good boy and he is innocent haha'"
      ]
     },
     "execution_count": 2,
     "metadata": {},
     "output_type": "execute_result"
    }
   ],
   "source": [
    "mystr"
   ]
  },
  {
   "cell_type": "code",
   "execution_count": 8,
   "metadata": {},
   "outputs": [
    {
     "data": {
      "text/plain": [
       "'b'"
      ]
     },
     "execution_count": 8,
     "metadata": {},
     "output_type": "execute_result"
    }
   ],
   "source": [
    "mystr[-1] and mystr[3]"
   ]
  },
  {
   "cell_type": "code",
   "execution_count": 22,
   "metadata": {},
   "outputs": [
    {
     "data": {
      "text/plain": [
       "'bby is a good boy and he is innocent haha'"
      ]
     },
     "execution_count": 22,
     "metadata": {},
     "output_type": "execute_result"
    }
   ],
   "source": [
    "mystr[2:] #slicing from index 2 to end"
   ]
  },
  {
   "cell_type": "code",
   "execution_count": 29,
   "metadata": {},
   "outputs": [
    {
     "data": {
      "text/plain": [
       "'by is a good'"
      ]
     },
     "execution_count": 29,
     "metadata": {},
     "output_type": "execute_result"
    }
   ],
   "source": [
    "mystr[3:15] #from index to index"
   ]
  },
  {
   "cell_type": "code",
   "execution_count": 34,
   "metadata": {},
   "outputs": [
    {
     "data": {
      "text/plain": [
       "'bbyi  odbyadh sincn aa'"
      ]
     },
     "execution_count": 34,
     "metadata": {},
     "output_type": "execute_result"
    }
   ],
   "source": [
    "mystr[::2] #go in jumps of two"
   ]
  },
  {
   "cell_type": "code",
   "execution_count": 37,
   "metadata": {},
   "outputs": [
    {
     "data": {
      "text/plain": [
       "'ob sago '"
      ]
     },
     "execution_count": 37,
     "metadata": {},
     "output_type": "execute_result"
    }
   ],
   "source": [
    "mystr[1:17:2] "
   ]
  },
  {
   "cell_type": "markdown",
   "metadata": {},
   "source": [
    "### string and method"
   ]
  },
  {
   "cell_type": "code",
   "execution_count": 38,
   "metadata": {},
   "outputs": [],
   "source": [
    "#immutable is thing u cannot change\n",
    "name =\"bobby\""
   ]
  },
  {
   "cell_type": "code",
   "execution_count": 41,
   "metadata": {},
   "outputs": [],
   "source": [
    "last_letter = name[1:]"
   ]
  },
  {
   "cell_type": "code",
   "execution_count": 42,
   "metadata": {},
   "outputs": [
    {
     "data": {
      "text/plain": [
       "'obby'"
      ]
     },
     "execution_count": 42,
     "metadata": {},
     "output_type": "execute_result"
    }
   ],
   "source": [
    "last_letter"
   ]
  },
  {
   "cell_type": "code",
   "execution_count": 46,
   "metadata": {},
   "outputs": [
    {
     "data": {
      "text/plain": [
       "'Tobby'"
      ]
     },
     "execution_count": 46,
     "metadata": {},
     "output_type": "execute_result"
    }
   ],
   "source": [
    "'T' + last_letter #concat with two string"
   ]
  },
  {
   "cell_type": "code",
   "execution_count": 49,
   "metadata": {},
   "outputs": [
    {
     "data": {
      "text/plain": [
       "'bobbybobbybobbybobbybobbybobbybobbybobbybobbybobby'"
      ]
     },
     "execution_count": 49,
     "metadata": {},
     "output_type": "execute_result"
    }
   ],
   "source": [
    "name *10"
   ]
  },
  {
   "cell_type": "code",
   "execution_count": 54,
   "metadata": {},
   "outputs": [],
   "source": [
    "x='hello world'"
   ]
  },
  {
   "cell_type": "code",
   "execution_count": 58,
   "metadata": {},
   "outputs": [
    {
     "data": {
      "text/plain": [
       "'HELLO WORLD'"
      ]
     },
     "execution_count": 58,
     "metadata": {},
     "output_type": "execute_result"
    }
   ],
   "source": [
    "x.upper() #simlrly lower method"
   ]
  },
  {
   "cell_type": "code",
   "execution_count": 59,
   "metadata": {},
   "outputs": [
    {
     "data": {
      "text/plain": [
       "['hello', 'world']"
      ]
     },
     "execution_count": 59,
     "metadata": {},
     "output_type": "execute_result"
    }
   ],
   "source": [
    "x.split()"
   ]
  },
  {
   "cell_type": "code",
   "execution_count": 60,
   "metadata": {},
   "outputs": [],
   "source": [
    "x='hi this is a string'\n"
   ]
  },
  {
   "cell_type": "code",
   "execution_count": 61,
   "metadata": {},
   "outputs": [
    {
     "data": {
      "text/plain": [
       "['hi', 'this', 'is', 'a', 'string']"
      ]
     },
     "execution_count": 61,
     "metadata": {},
     "output_type": "execute_result"
    }
   ],
   "source": [
    "x.split()"
   ]
  },
  {
   "cell_type": "code",
   "execution_count": 62,
   "metadata": {},
   "outputs": [
    {
     "data": {
      "text/plain": [
       "['h', ' th', 's ', 's a str', 'ng']"
      ]
     },
     "execution_count": 62,
     "metadata": {},
     "output_type": "execute_result"
    }
   ],
   "source": [
    "x.split('i')"
   ]
  },
  {
   "cell_type": "markdown",
   "metadata": {},
   "source": [
    "### format string"
   ]
  },
  {
   "cell_type": "code",
   "execution_count": 65,
   "metadata": {},
   "outputs": [
    {
     "name": "stdout",
     "output_type": "stream",
     "text": [
      "this is a srting Inserted\n"
     ]
    }
   ],
   "source": [
    "\n",
    "print('this is a srting {}'.format('Inserted'))"
   ]
  },
  {
   "cell_type": "code",
   "execution_count": 73,
   "metadata": {},
   "outputs": [
    {
     "name": "stdout",
     "output_type": "stream",
     "text": [
      "the fox pora rey brown bird\n"
     ]
    }
   ],
   "source": [
    "print('the {f} {p} {bb} {b}'.format(f='fox',b='bird',bb='brown',p='pora rey'))"
   ]
  },
  {
   "cell_type": "code",
   "execution_count": 75,
   "metadata": {},
   "outputs": [],
   "source": [
    "res= 100/777"
   ]
  },
  {
   "cell_type": "code",
   "execution_count": 81,
   "metadata": {},
   "outputs": [
    {
     "data": {
      "text/plain": [
       "0.1287001287001287"
      ]
     },
     "execution_count": 81,
     "metadata": {},
     "output_type": "execute_result"
    }
   ],
   "source": [
    "res"
   ]
  },
  {
   "cell_type": "code",
   "execution_count": 82,
   "metadata": {},
   "outputs": [
    {
     "name": "stdout",
     "output_type": "stream",
     "text": [
      "the result was 0.13\n"
     ]
    }
   ],
   "source": [
    "print(\"the result was {r:1.2f}\".format(r=res)) #i also round the value"
   ]
  },
  {
   "cell_type": "code",
   "execution_count": 84,
   "metadata": {},
   "outputs": [],
   "source": [
    "#alternstive to last time step, formated string method\n",
    "name=\"jose\""
   ]
  },
  {
   "cell_type": "code",
   "execution_count": 86,
   "metadata": {},
   "outputs": [
    {
     "name": "stdout",
     "output_type": "stream",
     "text": [
      "hello, his name is jose\n"
     ]
    }
   ],
   "source": [
    "print(f'hello, his name is {name}')"
   ]
  },
  {
   "cell_type": "markdown",
   "metadata": {},
   "source": [
    "### lists"
   ]
  },
  {
   "cell_type": "code",
   "execution_count": 33,
   "metadata": {},
   "outputs": [],
   "source": [
    "mylist = [1,'po ra','idk off',4,5]"
   ]
  },
  {
   "cell_type": "code",
   "execution_count": 34,
   "metadata": {},
   "outputs": [
    {
     "data": {
      "text/plain": [
       "5"
      ]
     },
     "execution_count": 34,
     "metadata": {},
     "output_type": "execute_result"
    }
   ],
   "source": [
    "len(mylist )"
   ]
  },
  {
   "cell_type": "code",
   "execution_count": 35,
   "metadata": {},
   "outputs": [
    {
     "data": {
      "text/plain": [
       "['po ra', 'fuck off', 4, 5]"
      ]
     },
     "execution_count": 35,
     "metadata": {},
     "output_type": "execute_result"
    }
   ],
   "source": [
    "mylist[1:] #except 1st element 'index 0'"
   ]
  },
  {
   "cell_type": "code",
   "execution_count": 36,
   "metadata": {},
   "outputs": [],
   "source": [
    "mylist.append('six') #add new element"
   ]
  },
  {
   "cell_type": "code",
   "execution_count": 37,
   "metadata": {},
   "outputs": [
    {
     "data": {
      "text/plain": [
       "[1, 'po ra', 'fuck off', 4, 5, 'six']"
      ]
     },
     "execution_count": 37,
     "metadata": {},
     "output_type": "execute_result"
    }
   ],
   "source": [
    "mylist"
   ]
  },
  {
   "cell_type": "code",
   "execution_count": 38,
   "metadata": {},
   "outputs": [
    {
     "data": {
      "text/plain": [
       "'six'"
      ]
     },
     "execution_count": 38,
     "metadata": {},
     "output_type": "execute_result"
    }
   ],
   "source": [
    "#remove items (pop) method\n",
    "mylist.pop()"
   ]
  },
  {
   "cell_type": "code",
   "execution_count": 39,
   "metadata": {},
   "outputs": [
    {
     "data": {
      "text/plain": [
       "'fuck off'"
      ]
     },
     "execution_count": 39,
     "metadata": {},
     "output_type": "execute_result"
    }
   ],
   "source": [
    "mylist.pop(2)"
   ]
  },
  {
   "cell_type": "markdown",
   "metadata": {},
   "source": [
    "### dictionary"
   ]
  },
  {
   "cell_type": "code",
   "execution_count": 1,
   "metadata": {},
   "outputs": [],
   "source": [
    "dictionary={'key1':'hello', 'key2':'this is bobby'}"
   ]
  },
  {
   "cell_type": "code",
   "execution_count": 9,
   "metadata": {},
   "outputs": [
    {
     "data": {
      "text/plain": [
       "'this is bobbyhello'"
      ]
     },
     "execution_count": 9,
     "metadata": {},
     "output_type": "execute_result"
    }
   ],
   "source": [
    "dictionary['key2'] + dictionary['key1']"
   ]
  },
  {
   "cell_type": "code",
   "execution_count": 12,
   "metadata": {},
   "outputs": [],
   "source": [
    "d = {'k1':'po ra', 'k2': '[pora rey]', 'k3':{'inside key': 'hahaha'} }"
   ]
  },
  {
   "cell_type": "code",
   "execution_count": 17,
   "metadata": {},
   "outputs": [
    {
     "data": {
      "text/plain": [
       "'[pora puka]'"
      ]
     },
     "execution_count": 17,
     "metadata": {},
     "output_type": "execute_result"
    }
   ],
   "source": [
    "d['k2'] "
   ]
  },
  {
   "cell_type": "code",
   "execution_count": 21,
   "metadata": {},
   "outputs": [
    {
     "data": {
      "text/plain": [
       "'HAHAHA'"
      ]
     },
     "execution_count": 21,
     "metadata": {},
     "output_type": "execute_result"
    }
   ],
   "source": [
    "d['k3']['inside key'].upper()"
   ]
  },
  {
   "cell_type": "code",
   "execution_count": 22,
   "metadata": {},
   "outputs": [],
   "source": [
    "d1={'k1': 123, 'k2': 'buttabomma', 'k3': 'ala vaikuntapuram lo'}"
   ]
  },
  {
   "cell_type": "code",
   "execution_count": 23,
   "metadata": {},
   "outputs": [
    {
     "data": {
      "text/plain": [
       "{'k1': 123, 'k2': 'buttabomma', 'k3': 'ala vaikuntapuram lo'}"
      ]
     },
     "execution_count": 23,
     "metadata": {},
     "output_type": "execute_result"
    }
   ],
   "source": [
    "d1"
   ]
  },
  {
   "cell_type": "code",
   "execution_count": 24,
   "metadata": {},
   "outputs": [],
   "source": [
    "movie = d1['k3']"
   ]
  },
  {
   "cell_type": "code",
   "execution_count": 25,
   "metadata": {},
   "outputs": [
    {
     "data": {
      "text/plain": [
       "'ala vaikuntapuram lo'"
      ]
     },
     "execution_count": 25,
     "metadata": {},
     "output_type": "execute_result"
    }
   ],
   "source": [
    "movie"
   ]
  },
  {
   "cell_type": "code",
   "execution_count": 26,
   "metadata": {},
   "outputs": [],
   "source": [
    "song = d1['k2']"
   ]
  },
  {
   "cell_type": "code",
   "execution_count": 27,
   "metadata": {},
   "outputs": [
    {
     "data": {
      "text/plain": [
       "'buttabomma'"
      ]
     },
     "execution_count": 27,
     "metadata": {},
     "output_type": "execute_result"
    }
   ],
   "source": [
    "song"
   ]
  },
  {
   "cell_type": "code",
   "execution_count": 29,
   "metadata": {},
   "outputs": [
    {
     "data": {
      "text/plain": [
       "'ALA VAIKUNTAPURAM LO'"
      ]
     },
     "execution_count": 29,
     "metadata": {},
     "output_type": "execute_result"
    }
   ],
   "source": [
    "movie.upper()"
   ]
  },
  {
   "cell_type": "code",
   "execution_count": 30,
   "metadata": {},
   "outputs": [
    {
     "data": {
      "text/plain": [
       "dict_keys(['k1', 'k2', 'k3'])"
      ]
     },
     "execution_count": 30,
     "metadata": {},
     "output_type": "execute_result"
    }
   ],
   "source": [
    "d1.keys()"
   ]
  },
  {
   "cell_type": "code",
   "execution_count": 32,
   "metadata": {},
   "outputs": [
    {
     "data": {
      "text/plain": [
       "dict_values([123, 'buttabomma', 'ala vaikuntapuram lo'])"
      ]
     },
     "execution_count": 32,
     "metadata": {},
     "output_type": "execute_result"
    }
   ],
   "source": [
    "d1.values()"
   ]
  },
  {
   "cell_type": "code",
   "execution_count": 31,
   "metadata": {},
   "outputs": [
    {
     "data": {
      "text/plain": [
       "dict_items([('k1', 123), ('k2', 'buttabomma'), ('k3', 'ala vaikuntapuram lo')])"
      ]
     },
     "execution_count": 31,
     "metadata": {},
     "output_type": "execute_result"
    }
   ],
   "source": [
    "d1.items()"
   ]
  },
  {
   "cell_type": "markdown",
   "metadata": {},
   "source": [
    "### tuples  , difference bw list and tuple is immutable, in tuple we cannot change the values inside, but in list we can"
   ]
  },
  {
   "cell_type": "code",
   "execution_count": 48,
   "metadata": {},
   "outputs": [],
   "source": [
    "t = (1,2,3,4,4,2,2,2,3,4,2,2,4,1,2,1,2,3,1,2,3,1,2,1)"
   ]
  },
  {
   "cell_type": "code",
   "execution_count": 49,
   "metadata": {},
   "outputs": [],
   "source": [
    "mylist = [1,2,3,4]"
   ]
  },
  {
   "cell_type": "code",
   "execution_count": 51,
   "metadata": {},
   "outputs": [
    {
     "data": {
      "text/plain": [
       "6"
      ]
     },
     "execution_count": 51,
     "metadata": {},
     "output_type": "execute_result"
    }
   ],
   "source": [
    "t.count(1)"
   ]
  },
  {
   "cell_type": "code",
   "execution_count": 53,
   "metadata": {},
   "outputs": [
    {
     "data": {
      "text/plain": [
       "0"
      ]
     },
     "execution_count": 53,
     "metadata": {},
     "output_type": "execute_result"
    }
   ],
   "source": [
    "t.index(1)"
   ]
  },
  {
   "cell_type": "code",
   "execution_count": 56,
   "metadata": {},
   "outputs": [],
   "source": [
    "mylist[0] = 'new' #in list we can assign new value to existing values"
   ]
  },
  {
   "cell_type": "code",
   "execution_count": 57,
   "metadata": {},
   "outputs": [
    {
     "data": {
      "text/plain": [
       "['new', 2, 3, 4]"
      ]
     },
     "execution_count": 57,
     "metadata": {},
     "output_type": "execute_result"
    }
   ],
   "source": [
    "mylist"
   ]
  },
  {
   "cell_type": "code",
   "execution_count": 59,
   "metadata": {},
   "outputs": [
    {
     "ename": "TypeError",
     "evalue": "'tuple' object does not support item assignment",
     "output_type": "error",
     "traceback": [
      "\u001b[1;31m---------------------------------------------------------------------------\u001b[0m",
      "\u001b[1;31mTypeError\u001b[0m                                 Traceback (most recent call last)",
      "\u001b[1;32m<ipython-input-59-7daffaf4de31>\u001b[0m in \u001b[0;36m<module>\u001b[1;34m\u001b[0m\n\u001b[1;32m----> 1\u001b[1;33m \u001b[0mt\u001b[0m\u001b[1;33m[\u001b[0m\u001b[1;36m0\u001b[0m\u001b[1;33m]\u001b[0m \u001b[1;33m=\u001b[0m \u001b[1;34m'new1'\u001b[0m \u001b[1;31m# in tuple we cannot assign values for already existing values\u001b[0m\u001b[1;33m\u001b[0m\u001b[1;33m\u001b[0m\u001b[0m\n\u001b[0m",
      "\u001b[1;31mTypeError\u001b[0m: 'tuple' object does not support item assignment"
     ]
    }
   ],
   "source": [
    "t[0] = 'new1' # in tuple we cannot assign values for already existing values "
   ]
  },
  {
   "cell_type": "markdown",
   "metadata": {},
   "source": [
    "### sets"
   ]
  },
  {
   "cell_type": "code",
   "execution_count": 60,
   "metadata": {},
   "outputs": [],
   "source": [
    "set1 = set()"
   ]
  },
  {
   "cell_type": "code",
   "execution_count": 63,
   "metadata": {},
   "outputs": [],
   "source": [
    "set1.add(1)"
   ]
  },
  {
   "cell_type": "code",
   "execution_count": 71,
   "metadata": {},
   "outputs": [],
   "source": [
    "set1.add(2)"
   ]
  },
  {
   "cell_type": "code",
   "execution_count": 72,
   "metadata": {},
   "outputs": [
    {
     "data": {
      "text/plain": [
       "{1, 2}"
      ]
     },
     "execution_count": 72,
     "metadata": {},
     "output_type": "execute_result"
    }
   ],
   "source": [
    "set1"
   ]
  },
  {
   "cell_type": "code",
   "execution_count": 73,
   "metadata": {},
   "outputs": [],
   "source": [
    "list1 = [1,1,1,2,2,2,23,3,3,4,4,4,1]"
   ]
  },
  {
   "cell_type": "code",
   "execution_count": 74,
   "metadata": {},
   "outputs": [
    {
     "data": {
      "text/plain": [
       "{1, 2, 3, 4, 23}"
      ]
     },
     "execution_count": 74,
     "metadata": {},
     "output_type": "execute_result"
    }
   ],
   "source": [
    "set(list1)"
   ]
  },
  {
   "cell_type": "markdown",
   "metadata": {},
   "source": [
    "### booleans and exercise 1"
   ]
  },
  {
   "cell_type": "code",
   "execution_count": 76,
   "metadata": {},
   "outputs": [
    {
     "data": {
      "text/plain": [
       "False"
      ]
     },
     "execution_count": 76,
     "metadata": {},
     "output_type": "execute_result"
    }
   ],
   "source": [
    "#true or false statements\n",
    "1>2"
   ]
  },
  {
   "cell_type": "code",
   "execution_count": 77,
   "metadata": {},
   "outputs": [
    {
     "data": {
      "text/plain": [
       "False"
      ]
     },
     "execution_count": 77,
     "metadata": {},
     "output_type": "execute_result"
    }
   ],
   "source": [
    "1==2"
   ]
  },
  {
   "cell_type": "code",
   "execution_count": 78,
   "metadata": {},
   "outputs": [
    {
     "data": {
      "text/plain": [
       "True"
      ]
     },
     "execution_count": 78,
     "metadata": {},
     "output_type": "execute_result"
    }
   ],
   "source": [
    "1==1"
   ]
  },
  {
   "cell_type": "code",
   "execution_count": 86,
   "metadata": {},
   "outputs": [],
   "source": [
    "s='hello'"
   ]
  },
  {
   "cell_type": "code",
   "execution_count": 89,
   "metadata": {},
   "outputs": [
    {
     "data": {
      "text/plain": [
       "'e'"
      ]
     },
     "execution_count": 89,
     "metadata": {},
     "output_type": "execute_result"
    }
   ],
   "source": [
    "s[1] # index 1"
   ]
  },
  {
   "cell_type": "code",
   "execution_count": 96,
   "metadata": {},
   "outputs": [
    {
     "data": {
      "text/plain": [
       "'olleh'"
      ]
     },
     "execution_count": 96,
     "metadata": {},
     "output_type": "execute_result"
    }
   ],
   "source": [
    "s[::-1] #reverse the string using slicing"
   ]
  },
  {
   "cell_type": "code",
   "execution_count": 99,
   "metadata": {},
   "outputs": [],
   "source": [
    "list3 = [1,2,[3,4,'hello']]"
   ]
  },
  {
   "cell_type": "code",
   "execution_count": 100,
   "metadata": {},
   "outputs": [
    {
     "data": {
      "text/plain": [
       "[1, 2, [3, 4, 'hello']]"
      ]
     },
     "execution_count": 100,
     "metadata": {},
     "output_type": "execute_result"
    }
   ],
   "source": [
    "list3"
   ]
  },
  {
   "cell_type": "code",
   "execution_count": 120,
   "metadata": {},
   "outputs": [],
   "source": [
    "listt=[5,3,6,7,1]"
   ]
  },
  {
   "cell_type": "code",
   "execution_count": 121,
   "metadata": {},
   "outputs": [],
   "source": [
    "listt.sort()"
   ]
  },
  {
   "cell_type": "code",
   "execution_count": 122,
   "metadata": {},
   "outputs": [
    {
     "data": {
      "text/plain": [
       "[1, 3, 5, 6, 7]"
      ]
     },
     "execution_count": 122,
     "metadata": {},
     "output_type": "execute_result"
    }
   ],
   "source": [
    "listt"
   ]
  },
  {
   "cell_type": "code",
   "execution_count": 123,
   "metadata": {},
   "outputs": [],
   "source": [
    "c={'k1':{'k2':'hello'}}"
   ]
  },
  {
   "cell_type": "code",
   "execution_count": 128,
   "metadata": {},
   "outputs": [
    {
     "data": {
      "text/plain": [
       "{'k2': 'hello'}"
      ]
     },
     "execution_count": 128,
     "metadata": {},
     "output_type": "execute_result"
    }
   ],
   "source": [
    "c['k1']"
   ]
  },
  {
   "cell_type": "code",
   "execution_count": 129,
   "metadata": {},
   "outputs": [
    {
     "data": {
      "text/plain": [
       "'hello'"
      ]
     },
     "execution_count": 129,
     "metadata": {},
     "output_type": "execute_result"
    }
   ],
   "source": [
    "c['k1']['k2']"
   ]
  },
  {
   "cell_type": "code",
   "execution_count": 130,
   "metadata": {},
   "outputs": [],
   "source": [
    "c1={'k1':[{'nest_key':['ths is deep',['hello']]}]}"
   ]
  },
  {
   "cell_type": "code",
   "execution_count": 135,
   "metadata": {},
   "outputs": [
    {
     "data": {
      "text/plain": [
       "[{'nest_key': ['ths is deep', ['hello']]}]"
      ]
     },
     "execution_count": 135,
     "metadata": {},
     "output_type": "execute_result"
    }
   ],
   "source": [
    "c1['k1']"
   ]
  },
  {
   "cell_type": "code",
   "execution_count": 155,
   "metadata": {},
   "outputs": [
    {
     "data": {
      "text/plain": [
       "'hello'"
      ]
     },
     "execution_count": 155,
     "metadata": {},
     "output_type": "execute_result"
    }
   ],
   "source": [
    "c1['k1'][0]['nest_key'][1][0]"
   ]
  },
  {
   "cell_type": "code",
   "execution_count": 156,
   "metadata": {},
   "outputs": [],
   "source": [
    "c2={'k1':[1,2,{'k2':['this is tricky',{'tough':[1,2,['hello']]}]}]}"
   ]
  },
  {
   "cell_type": "code",
   "execution_count": 157,
   "metadata": {},
   "outputs": [
    {
     "data": {
      "text/plain": [
       "{'k2': ['this is tricky', {'tough': [1, 2, ['hello']]}]}"
      ]
     },
     "execution_count": 157,
     "metadata": {},
     "output_type": "execute_result"
    }
   ],
   "source": [
    "c2['k1'][2]"
   ]
  },
  {
   "cell_type": "code",
   "execution_count": 158,
   "metadata": {},
   "outputs": [
    {
     "data": {
      "text/plain": [
       "'hello'"
      ]
     },
     "execution_count": 158,
     "metadata": {},
     "output_type": "execute_result"
    }
   ],
   "source": [
    "c2['k1'][2]['k2'][1]['tough'][2][0]"
   ]
  },
  {
   "cell_type": "markdown",
   "metadata": {},
   "source": [
    "# comparision and logical operators "
   ]
  },
  {
   "cell_type": "code",
   "execution_count": 162,
   "metadata": {},
   "outputs": [
    {
     "data": {
      "text/plain": [
       "True"
      ]
     },
     "execution_count": 162,
     "metadata": {},
     "output_type": "execute_result"
    }
   ],
   "source": [
    "1==2 or 1==1 #anyone should be true it gives true"
   ]
  },
  {
   "cell_type": "code",
   "execution_count": 164,
   "metadata": {},
   "outputs": [
    {
     "data": {
      "text/plain": [
       "True"
      ]
     },
     "execution_count": 164,
     "metadata": {},
     "output_type": "execute_result"
    }
   ],
   "source": [
    "1<2<3"
   ]
  },
  {
   "cell_type": "code",
   "execution_count": 166,
   "metadata": {},
   "outputs": [
    {
     "data": {
      "text/plain": [
       "True"
      ]
     },
     "execution_count": 166,
     "metadata": {},
     "output_type": "execute_result"
    }
   ],
   "source": [
    "1<2 and 2<3 #both should be true the true"
   ]
  },
  {
   "cell_type": "code",
   "execution_count": 168,
   "metadata": {},
   "outputs": [
    {
     "data": {
      "text/plain": [
       "False"
      ]
     },
     "execution_count": 168,
     "metadata": {},
     "output_type": "execute_result"
    }
   ],
   "source": [
    "not(1==1) #~negation of the result"
   ]
  },
  {
   "cell_type": "markdown",
   "metadata": {},
   "source": [
    "### if else elif"
   ]
  },
  {
   "cell_type": "code",
   "execution_count": 177,
   "metadata": {},
   "outputs": [
    {
     "name": "stdout",
     "output_type": "stream",
     "text": [
      "po ra\n"
     ]
    }
   ],
   "source": [
    "study = True\n",
    "if study==False:\n",
    "    print(\"pass\")\n",
    "    \n",
    "elif study==True:\n",
    "    print(\"po ra\")\n",
    "    \n",
    "else:\n",
    "    print(\"fail\")"
   ]
  },
  {
   "cell_type": "code",
   "execution_count": 186,
   "metadata": {},
   "outputs": [
    {
     "name": "stdout",
     "output_type": "stream",
     "text": [
      "hello superstar bobby\n"
     ]
    }
   ],
   "source": [
    "name = 'bobby'\n",
    "\n",
    "if name == 'sharath':\n",
    "    print('hello sharath')\n",
    "elif name == 'leroy':\n",
    "    print('hello leroy')\n",
    "elif name == 'bobby':\n",
    "    print('hello superstar bobby')\n",
    "else:\n",
    "    print('po ra naku ni peru teleedu')"
   ]
  },
  {
   "cell_type": "markdown",
   "metadata": {},
   "source": [
    "### for loops"
   ]
  },
  {
   "cell_type": "code",
   "execution_count": 190,
   "metadata": {},
   "outputs": [
    {
     "name": "stdout",
     "output_type": "stream",
     "text": [
      "1\n",
      "2\n",
      "3\n",
      "haha\n",
      "pora\n",
      "puka\n"
     ]
    }
   ],
   "source": [
    "my =[1,2,3,'haha', 'pora', 'puka']\n",
    "for item in my:\n",
    "    print(item)"
   ]
  },
  {
   "cell_type": "code",
   "execution_count": 201,
   "metadata": {
    "scrolled": false
   },
   "outputs": [
    {
     "name": "stdout",
     "output_type": "stream",
     "text": [
      "0\n",
      "1\n",
      "2\n",
      "3\n",
      "4\n",
      "5\n",
      "6\n",
      "7\n",
      "8\n",
      "9\n"
     ]
    }
   ],
   "source": [
    "i=0\n",
    "n=10\n",
    "for i in range(n): #range is used for numbers only\n",
    "    print(i)\n",
    "    i+1"
   ]
  },
  {
   "cell_type": "code",
   "execution_count": 216,
   "metadata": {},
   "outputs": [
    {
     "name": "stdout",
     "output_type": "stream",
     "text": [
      "1 hello\n",
      "2 hello\n",
      "3 hello\n",
      "4 hello\n",
      "5 hello\n",
      "6 hello\n",
      "7 hello\n",
      "8 hello\n",
      "9 hello\n",
      "10 hello\n"
     ]
    }
   ],
   "source": [
    "mylist = [1,2,3,4,5,6,7,8,9,10] #range is not used insterd i use variable name\n",
    "for i in mylist:\n",
    "    print(i , 'hello')\n",
    "    i+1"
   ]
  },
  {
   "cell_type": "code",
   "execution_count": 230,
   "metadata": {},
   "outputs": [
    {
     "name": "stdout",
     "output_type": "stream",
     "text": [
      "odd:1\n",
      "2\n",
      "odd:3\n",
      "4\n",
      "odd:5\n",
      "6\n",
      "odd:7\n",
      "8\n",
      "odd:9\n",
      "10\n"
     ]
    }
   ],
   "source": [
    "for i in mylist:\n",
    "    if i % 2 == 0:\n",
    "        print(i)\n",
    "    else:\n",
    "        print(f'odd:{i}')"
   ]
  },
  {
   "cell_type": "code",
   "execution_count": 250,
   "metadata": {},
   "outputs": [
    {
     "name": "stdout",
     "output_type": "stream",
     "text": [
      "55\n"
     ]
    }
   ],
   "source": [
    "mylist = [1,2,3,4,5,6,7,8,9,10] #same works for tuple also\n",
    "\n",
    "list=0\n",
    "for i in mylist:\n",
    "    list = list + i\n",
    "print(list)"
   ]
  },
  {
   "cell_type": "code",
   "execution_count": 251,
   "metadata": {
    "collapsed": true
   },
   "outputs": [
    {
     "name": "stdout",
     "output_type": "stream",
     "text": [
      "p\n",
      "o\n",
      "r\n",
      "a\n",
      " \n",
      "p\n",
      "u\n",
      "k\n",
      "a\n",
      ",\n",
      " \n",
      "d\n",
      "o\n",
      "n\n",
      "t\n",
      " \n",
      "p\n",
      "l\n",
      "a\n",
      "y\n",
      " \n",
      "g\n",
      "a\n",
      "m\n",
      "e\n",
      "s\n",
      " \n",
      "w\n",
      "i\n",
      "t\n",
      "h\n",
      " \n",
      "b\n",
      "o\n",
      "b\n",
      "b\n",
      "y\n"
     ]
    }
   ],
   "source": [
    "string = \"pora puka, dont play games with bobby\"\n",
    "for i in string:\n",
    "    print(i)"
   ]
  },
  {
   "cell_type": "code",
   "execution_count": 252,
   "metadata": {},
   "outputs": [],
   "source": [
    "list1 = [(1,2,3),(4,5,6,7),(11,3,55,6,7,90,0)]"
   ]
  },
  {
   "cell_type": "code",
   "execution_count": 258,
   "metadata": {
    "collapsed": true
   },
   "outputs": [
    {
     "name": "stdout",
     "output_type": "stream",
     "text": [
      "1\n",
      "2\n",
      "3\n"
     ]
    },
    {
     "ename": "ValueError",
     "evalue": "too many values to unpack (expected 3)",
     "output_type": "error",
     "traceback": [
      "\u001b[1;31m---------------------------------------------------------------------------\u001b[0m",
      "\u001b[1;31mValueError\u001b[0m                                Traceback (most recent call last)",
      "\u001b[1;32m<ipython-input-258-667c86d81135>\u001b[0m in \u001b[0;36m<module>\u001b[1;34m\u001b[0m\n\u001b[1;32m----> 1\u001b[1;33m \u001b[1;32mfor\u001b[0m \u001b[1;33m(\u001b[0m\u001b[0ma\u001b[0m\u001b[1;33m,\u001b[0m\u001b[0mb\u001b[0m\u001b[1;33m,\u001b[0m\u001b[0mc\u001b[0m\u001b[1;33m)\u001b[0m \u001b[1;32min\u001b[0m \u001b[0mlist1\u001b[0m\u001b[1;33m:\u001b[0m \u001b[1;31m#this works when tuple's size are all same, called tuple unpacking\u001b[0m\u001b[1;33m\u001b[0m\u001b[1;33m\u001b[0m\u001b[0m\n\u001b[0m\u001b[0;32m      2\u001b[0m     \u001b[0mprint\u001b[0m\u001b[1;33m(\u001b[0m\u001b[0ma\u001b[0m\u001b[1;33m)\u001b[0m\u001b[1;33m\u001b[0m\u001b[1;33m\u001b[0m\u001b[0m\n\u001b[0;32m      3\u001b[0m     \u001b[0mprint\u001b[0m\u001b[1;33m(\u001b[0m\u001b[0mb\u001b[0m\u001b[1;33m)\u001b[0m\u001b[1;33m\u001b[0m\u001b[1;33m\u001b[0m\u001b[0m\n\u001b[0;32m      4\u001b[0m     \u001b[0mprint\u001b[0m\u001b[1;33m(\u001b[0m\u001b[0mc\u001b[0m\u001b[1;33m)\u001b[0m\u001b[1;33m\u001b[0m\u001b[1;33m\u001b[0m\u001b[0m\n\u001b[0;32m      5\u001b[0m \u001b[1;33m\u001b[0m\u001b[0m\n",
      "\u001b[1;31mValueError\u001b[0m: too many values to unpack (expected 3)"
     ]
    }
   ],
   "source": [
    "for (a,b,c) in list1: #this works when tuple's size are all same, called tuple unpacking\n",
    "    print(a)\n",
    "    print(b)\n",
    "    print(c)\n",
    "    "
   ]
  },
  {
   "cell_type": "code",
   "execution_count": 261,
   "metadata": {},
   "outputs": [
    {
     "name": "stdout",
     "output_type": "stream",
     "text": [
      "2\n",
      "5\n",
      "8\n"
     ]
    }
   ],
   "source": [
    "list1 = [(1,2,3),(4,5,6),(7,8,9)]\n",
    "for a,b,c in list1:\n",
    "    #print(a)\n",
    "    print(b) #u can access only to tuple assigned to 'b'\n",
    "    #print(c)"
   ]
  },
  {
   "cell_type": "code",
   "execution_count": 277,
   "metadata": {},
   "outputs": [
    {
     "name": "stdout",
     "output_type": "stream",
     "text": [
      "1\n",
      "2\n",
      "3\n"
     ]
    }
   ],
   "source": [
    "#in dictionary of many values u cannot expect the output to be in the same order\n",
    "#for items in d.items(): #works with dictonaries \n",
    " #   print(items)\n",
    "for key, value in d.items():\n",
    "    #print(key) # gives the key\n",
    "    print(value) #gives the values"
   ]
  },
  {
   "cell_type": "markdown",
   "metadata": {},
   "source": [
    "### while loops"
   ]
  },
  {
   "cell_type": "code",
   "execution_count": 4,
   "metadata": {},
   "outputs": [
    {
     "name": "stdout",
     "output_type": "stream",
     "text": [
      "the current x is 0\n",
      "the current x is 1\n",
      "the current x is 2\n",
      "the current x is 3\n",
      "the current x is 4\n",
      "x is not less than 5\n"
     ]
    }
   ],
   "source": [
    "x = 0\n",
    "while x < 5:\n",
    "    print(f'the current x is {x}')\n",
    "    x +=1\n",
    "else: \n",
    "    print(\"x is not less than 5\")"
   ]
  },
  {
   "cell_type": "markdown",
   "metadata": {},
   "source": [
    "break , continue, pass keyword\n"
   ]
  },
  {
   "cell_type": "code",
   "execution_count": 15,
   "metadata": {},
   "outputs": [
    {
     "name": "stdout",
     "output_type": "stream",
     "text": [
      "o\n",
      "y\n",
      " \n",
      "i\n",
      "s\n",
      " \n",
      "a\n",
      " \n",
      "v\n",
      "e\n",
      "r\n",
      "y\n",
      " \n",
      "g\n",
      "o\n",
      "o\n",
      "d\n",
      " \n",
      "o\n",
      "y\n"
     ]
    }
   ],
   "source": [
    "string = 'bobby is a very good boy'\n",
    "\n",
    "for i in string:\n",
    "    if i == 'b':\n",
    "        continue\n",
    "    print(i)"
   ]
  },
  {
   "cell_type": "code",
   "execution_count": 28,
   "metadata": {},
   "outputs": [
    {
     "name": "stdout",
     "output_type": "stream",
     "text": [
      "0\n",
      "1\n"
     ]
    }
   ],
   "source": [
    "xx = 0\n",
    "while xx<5: \n",
    "    if xx==2:\n",
    "        break\n",
    "    print(xx)\n",
    "    xx+=1"
   ]
  },
  {
   "cell_type": "markdown",
   "metadata": {},
   "source": [
    "range function\n"
   ]
  },
  {
   "cell_type": "code",
   "execution_count": 31,
   "metadata": {},
   "outputs": [],
   "source": [
    "ll = [1,1,1,1,2,2,2,2,3,3,3,4,4,4,5,5,5,6,6,7,8,9,8,8,9,9,]\n"
   ]
  },
  {
   "cell_type": "code",
   "execution_count": 39,
   "metadata": {},
   "outputs": [
    {
     "name": "stdout",
     "output_type": "stream",
     "text": [
      "0\n",
      "2\n",
      "4\n",
      "6\n",
      "8\n",
      "10\n"
     ]
    }
   ],
   "source": [
    "for i in range(0,11,2):\n",
    "    print(i)"
   ]
  },
  {
   "cell_type": "code",
   "execution_count": 40,
   "metadata": {},
   "outputs": [
    {
     "name": "stdout",
     "output_type": "stream",
     "text": [
      "there is 0 in the room h\n",
      "there is 1 in the room o\n",
      "there is 2 in the room t\n",
      "there is 3 in the room  \n",
      "there is 4 in the room b\n",
      "there is 5 in the room o\n",
      "there is 6 in the room b\n",
      "there is 7 in the room b\n",
      "there is 8 in the room y\n"
     ]
    }
   ],
   "source": [
    "index_count = 0 #normal method\n",
    "for i in 'hot bobby':\n",
    "    print('there is {} in the room {}'.format(index_count,i))\n",
    "    index_count +=1\n"
   ]
  },
  {
   "cell_type": "code",
   "execution_count": 49,
   "metadata": {},
   "outputs": [
    {
     "name": "stdout",
     "output_type": "stream",
     "text": [
      "(0, 'b')\n",
      "(1, 'o')\n",
      "(2, 'b')\n",
      "(3, 'b')\n",
      "(4, 'y')\n",
      "(5, ' ')\n",
      "(6, 'i')\n",
      "(7, 's')\n",
      "(8, ' ')\n",
      "(9, 'h')\n",
      "(10, 'o')\n",
      "(11, 't')\n"
     ]
    }
   ],
   "source": [
    "#enumarate function gives us the tuples as output\n",
    "word = 'bobby is hot'\n",
    "for i in enumerate(word):\n",
    "    print(i)"
   ]
  },
  {
   "cell_type": "code",
   "execution_count": 52,
   "metadata": {},
   "outputs": [],
   "source": [
    "#zip function\n",
    "#it zips two lists\n",
    "l1 =[1,2,3]\n",
    "l2 =['a','b','c']\n",
    "l3 =['lalalala', 'hahahahah', 'pora puka']"
   ]
  },
  {
   "cell_type": "code",
   "execution_count": 53,
   "metadata": {},
   "outputs": [
    {
     "name": "stdout",
     "output_type": "stream",
     "text": [
      "(1, 'a', 'lalalala')\n",
      "(2, 'b', 'hahahahah')\n",
      "(3, 'c', 'pora puka')\n"
     ]
    }
   ],
   "source": [
    "for i in zip(l1,l2,l3):\n",
    "    print(i) #gives tuple as output"
   ]
  },
  {
   "cell_type": "code",
   "execution_count": 54,
   "metadata": {},
   "outputs": [
    {
     "data": {
      "text/plain": [
       "[(1, 'a', 'lalalala'), (2, 'b', 'hahahahah'), (3, 'c', 'pora puka')]"
      ]
     },
     "execution_count": 54,
     "metadata": {},
     "output_type": "execute_result"
    }
   ],
   "source": [
    "list(zip(l1,l2,l3))"
   ]
  },
  {
   "cell_type": "code",
   "execution_count": 59,
   "metadata": {},
   "outputs": [
    {
     "data": {
      "text/plain": [
       "False"
      ]
     },
     "execution_count": 59,
     "metadata": {},
     "output_type": "execute_result"
    }
   ],
   "source": [
    "#in operator works for lists, dict, string etc;\n",
    "2 in [1,2,3]  #true\n",
    " \n",
    "'s' in ['k', 4] #false"
   ]
  },
  {
   "cell_type": "code",
   "execution_count": 76,
   "metadata": {},
   "outputs": [],
   "source": [
    "from random import shuffle\n",
    "from random import randint"
   ]
  },
  {
   "cell_type": "code",
   "execution_count": 77,
   "metadata": {},
   "outputs": [],
   "source": [
    "ll1=[1,2,3,4,5,6,7,8,9,11,223,454,54]"
   ]
  },
  {
   "cell_type": "code",
   "execution_count": 78,
   "metadata": {},
   "outputs": [],
   "source": [
    "shuffle(ll1)"
   ]
  },
  {
   "cell_type": "code",
   "execution_count": 79,
   "metadata": {},
   "outputs": [
    {
     "data": {
      "text/plain": [
       "[2, 11, 454, 5, 3, 8, 223, 9, 1, 54, 7, 4, 6]"
      ]
     },
     "execution_count": 79,
     "metadata": {},
     "output_type": "execute_result"
    }
   ],
   "source": [
    "ll1"
   ]
  },
  {
   "cell_type": "code",
   "execution_count": 84,
   "metadata": {},
   "outputs": [
    {
     "data": {
      "text/plain": [
       "65"
      ]
     },
     "execution_count": 84,
     "metadata": {},
     "output_type": "execute_result"
    }
   ],
   "source": [
    "randint(0,100)"
   ]
  },
  {
   "cell_type": "code",
   "execution_count": 89,
   "metadata": {},
   "outputs": [
    {
     "name": "stdout",
     "output_type": "stream",
     "text": [
      "enter a number: 76576\n"
     ]
    }
   ],
   "source": [
    "#input from user\n",
    "result=input('enter a number: ')"
   ]
  },
  {
   "cell_type": "code",
   "execution_count": 90,
   "metadata": {},
   "outputs": [
    {
     "data": {
      "text/plain": [
       "76576"
      ]
     },
     "execution_count": 90,
     "metadata": {},
     "output_type": "execute_result"
    }
   ],
   "source": [
    "int(result) #since result will be in string value and need in int "
   ]
  },
  {
   "cell_type": "code",
   "execution_count": 7,
   "metadata": {},
   "outputs": [],
   "source": [
    "d = {'key1': 1, 'key2':'lalalala'}"
   ]
  },
  {
   "cell_type": "code",
   "execution_count": 8,
   "metadata": {},
   "outputs": [
    {
     "data": {
      "text/plain": [
       "{'key1': 1, 'key2': 'lalalala'}"
      ]
     },
     "execution_count": 8,
     "metadata": {},
     "output_type": "execute_result"
    }
   ],
   "source": [
    "d"
   ]
  },
  {
   "cell_type": "code",
   "execution_count": 10,
   "metadata": {},
   "outputs": [
    {
     "data": {
      "text/plain": [
       "True"
      ]
     },
     "execution_count": 10,
     "metadata": {},
     "output_type": "execute_result"
    }
   ],
   "source": [
    "1 in d.values()"
   ]
  },
  {
   "cell_type": "code",
   "execution_count": 11,
   "metadata": {},
   "outputs": [],
   "source": [
    "#append to my list\n"
   ]
  },
  {
   "cell_type": "code",
   "execution_count": 12,
   "metadata": {},
   "outputs": [],
   "source": [
    "mystr = 'hello bobby'"
   ]
  },
  {
   "cell_type": "code",
   "execution_count": 13,
   "metadata": {},
   "outputs": [],
   "source": [
    "mylist = []\n",
    "for i in mystr:\n",
    "    mylist.append(i)"
   ]
  },
  {
   "cell_type": "code",
   "execution_count": 14,
   "metadata": {},
   "outputs": [
    {
     "data": {
      "text/plain": [
       "['h', 'e', 'l', 'l', 'o', ' ', 'b', 'o', 'b', 'b', 'y']"
      ]
     },
     "execution_count": 14,
     "metadata": {},
     "output_type": "execute_result"
    }
   ],
   "source": [
    "mylist"
   ]
  },
  {
   "cell_type": "code",
   "execution_count": 15,
   "metadata": {},
   "outputs": [],
   "source": [
    "#same program in other form\n",
    "mylistt = [ i for i in mystr] #called flaten version of for loop"
   ]
  },
  {
   "cell_type": "code",
   "execution_count": 16,
   "metadata": {},
   "outputs": [
    {
     "data": {
      "text/plain": [
       "['h', 'e', 'l', 'l', 'o', ' ', 'b', 'o', 'b', 'b', 'y']"
      ]
     },
     "execution_count": 16,
     "metadata": {},
     "output_type": "execute_result"
    }
   ],
   "source": [
    "mylistt"
   ]
  },
  {
   "cell_type": "code",
   "execution_count": 19,
   "metadata": {},
   "outputs": [
    {
     "name": "stdout",
     "output_type": "stream",
     "text": [
      "0\n",
      "1\n",
      "2\n",
      "3\n",
      "4\n",
      "5\n",
      "6\n",
      "7\n",
      "8\n",
      "9\n"
     ]
    }
   ],
   "source": [
    "for i in range(0,10):\n",
    "    print(i)"
   ]
  },
  {
   "cell_type": "code",
   "execution_count": 22,
   "metadata": {},
   "outputs": [],
   "source": [
    "cel = [0,10,20,34.5]\n",
    "\n",
    "fer = [((9/5)*i + 32) for i in cel] #flat version of for loop"
   ]
  },
  {
   "cell_type": "code",
   "execution_count": 23,
   "metadata": {},
   "outputs": [
    {
     "data": {
      "text/plain": [
       "[32.0, 50.0, 68.0, 94.1]"
      ]
     },
     "execution_count": 23,
     "metadata": {},
     "output_type": "execute_result"
    }
   ],
   "source": [
    "fer"
   ]
  },
  {
   "cell_type": "code",
   "execution_count": 29,
   "metadata": {},
   "outputs": [
    {
     "name": "stdout",
     "output_type": "stream",
     "text": [
      "[0, 2, 4, 6, 8, 10, 12, 14, 16, 18, 20, 22, 24, 26, 28, 30, 32, 34, 36, 38, 40, 42, 44, 46, 48]\n"
     ]
    }
   ],
   "source": [
    "la = [i for i in range(0,50) if i%2==0]\n",
    "\n",
    "print(la)"
   ]
  },
  {
   "cell_type": "code",
   "execution_count": 48,
   "metadata": {},
   "outputs": [],
   "source": [
    "lol = [i if i%2==0 else 'odd' for i in range(0,11)] #if else inside list comprihension"
   ]
  },
  {
   "cell_type": "code",
   "execution_count": 49,
   "metadata": {},
   "outputs": [
    {
     "data": {
      "text/plain": [
       "[0, 'odd', 2, 'odd', 4, 'odd', 6, 'odd', 8, 'odd', 10]"
      ]
     },
     "execution_count": 49,
     "metadata": {},
     "output_type": "execute_result"
    }
   ],
   "source": [
    "lol"
   ]
  },
  {
   "cell_type": "code",
   "execution_count": 58,
   "metadata": {},
   "outputs": [],
   "source": [
    "#nested loop in list comprihension\n",
    "l1 =[]\n",
    "samp1 = [2,4,6]\n",
    "samp2 = [100,200,300]\n",
    "for i1 in samp1:\n",
    "    for i2 in samp2:\n",
    "        l1.append(i1*i2)"
   ]
  },
  {
   "cell_type": "code",
   "execution_count": 59,
   "metadata": {},
   "outputs": [
    {
     "data": {
      "text/plain": [
       "[200, 400, 600, 400, 800, 1200, 600, 1200, 1800]"
      ]
     },
     "execution_count": 59,
     "metadata": {},
     "output_type": "execute_result"
    }
   ],
   "source": [
    "l1"
   ]
  },
  {
   "cell_type": "code",
   "execution_count": 82,
   "metadata": {},
   "outputs": [],
   "source": [
    "#test\n",
    "st = 'Si Print only the wprds that starting with s in this statement'"
   ]
  },
  {
   "cell_type": "code",
   "execution_count": 83,
   "metadata": {},
   "outputs": [
    {
     "data": {
      "text/plain": [
       "['Si',\n",
       " 'Print',\n",
       " 'only',\n",
       " 'the',\n",
       " 'wprds',\n",
       " 'that',\n",
       " 'starting',\n",
       " 'with',\n",
       " 's',\n",
       " 'in',\n",
       " 'this',\n",
       " 'statement']"
      ]
     },
     "execution_count": 83,
     "metadata": {},
     "output_type": "execute_result"
    }
   ],
   "source": [
    "st.split()"
   ]
  },
  {
   "cell_type": "code",
   "execution_count": 86,
   "metadata": {},
   "outputs": [
    {
     "name": "stdout",
     "output_type": "stream",
     "text": [
      "Si\n",
      "starting\n",
      "s\n",
      "statement\n"
     ]
    }
   ],
   "source": [
    "for i in st.split():\n",
    "    if i[0].lower()=='s':\n",
    "        print(i)"
   ]
  },
  {
   "cell_type": "code",
   "execution_count": 88,
   "metadata": {},
   "outputs": [
    {
     "name": "stdout",
     "output_type": "stream",
     "text": [
      "Si is even\n",
      "only is even\n",
      "that is even\n",
      "starting is even\n",
      "with is even\n",
      "in is even\n",
      "this is even\n"
     ]
    }
   ],
   "source": [
    "for i in st.split():\n",
    "    if len(i)%2==0:\n",
    "        print(i+ ' is even')"
   ]
  },
  {
   "cell_type": "code",
   "execution_count": 94,
   "metadata": {
    "scrolled": true
   },
   "outputs": [
    {
     "name": "stdout",
     "output_type": "stream",
     "text": [
      "by 3 and 5 which is 0\n",
      "1\n",
      "2\n",
      "by 3\n",
      "4\n",
      "by 5\n",
      "by 3\n",
      "7\n",
      "8\n",
      "by 3\n",
      "by 5\n",
      "11\n",
      "by 3\n",
      "13\n",
      "14\n",
      "by 3 and 5 which is 15\n",
      "16\n",
      "17\n",
      "by 3\n",
      "19\n",
      "by 5\n",
      "by 3\n",
      "22\n",
      "23\n",
      "by 3\n",
      "by 5\n",
      "26\n",
      "by 3\n",
      "28\n",
      "29\n",
      "by 3 and 5 which is 30\n",
      "31\n",
      "32\n",
      "by 3\n",
      "34\n",
      "by 5\n",
      "by 3\n",
      "37\n",
      "38\n",
      "by 3\n",
      "by 5\n",
      "41\n",
      "by 3\n",
      "43\n",
      "44\n",
      "by 3 and 5 which is 45\n",
      "46\n",
      "47\n",
      "by 3\n",
      "49\n",
      "by 5\n",
      "by 3\n",
      "52\n",
      "53\n",
      "by 3\n",
      "by 5\n",
      "56\n",
      "by 3\n",
      "58\n",
      "59\n",
      "by 3 and 5 which is 60\n",
      "61\n",
      "62\n",
      "by 3\n",
      "64\n",
      "by 5\n",
      "by 3\n",
      "67\n",
      "68\n",
      "by 3\n",
      "by 5\n",
      "71\n",
      "by 3\n",
      "73\n",
      "74\n",
      "by 3 and 5 which is 75\n",
      "76\n",
      "77\n",
      "by 3\n",
      "79\n",
      "by 5\n",
      "by 3\n",
      "82\n",
      "83\n",
      "by 3\n",
      "by 5\n",
      "86\n",
      "by 3\n",
      "88\n",
      "89\n",
      "by 3 and 5 which is 90\n",
      "91\n",
      "92\n",
      "by 3\n",
      "94\n",
      "by 5\n",
      "by 3\n",
      "97\n",
      "98\n",
      "by 3\n",
      "by 5\n"
     ]
    }
   ],
   "source": [
    "for i in range(0,101):\n",
    "    if i%3==0 and i%5==0:\n",
    "        print(f'by 3 and 5 which is {i}')\n",
    "    elif i%3==0:\n",
    "        print('by 3')\n",
    "    elif i%5==0:\n",
    "        print('by 5')\n",
    "    else:\n",
    "        print(i)"
   ]
  },
  {
   "cell_type": "markdown",
   "metadata": {},
   "source": [
    "### Methods and build in ojects"
   ]
  },
  {
   "cell_type": "code",
   "execution_count": 100,
   "metadata": {},
   "outputs": [],
   "source": [
    "#write a word and press TAB to know the methods to be implemented on the method\n"
   ]
  },
  {
   "cell_type": "markdown",
   "metadata": {},
   "source": [
    "### functions"
   ]
  },
  {
   "cell_type": "code",
   "execution_count": 111,
   "metadata": {},
   "outputs": [],
   "source": [
    "#syntax\n",
    "def name_fun(name='bobby'): #default name = bobby\n",
    "    print('hello '+name)"
   ]
  },
  {
   "cell_type": "code",
   "execution_count": 113,
   "metadata": {},
   "outputs": [
    {
     "name": "stdout",
     "output_type": "stream",
     "text": [
      "hello bobby\n"
     ]
    }
   ],
   "source": [
    "name_fun()"
   ]
  },
  {
   "cell_type": "code",
   "execution_count": 122,
   "metadata": {},
   "outputs": [],
   "source": [
    "def add(a,b):\n",
    "    return a+b"
   ]
  },
  {
   "cell_type": "code",
   "execution_count": 123,
   "metadata": {},
   "outputs": [
    {
     "data": {
      "text/plain": [
       "9"
      ]
     },
     "execution_count": 123,
     "metadata": {},
     "output_type": "execute_result"
    }
   ],
   "source": [
    "add(4,5)"
   ]
  },
  {
   "cell_type": "code",
   "execution_count": 124,
   "metadata": {},
   "outputs": [],
   "source": [
    "def dog_check(mystr):\n",
    "    return 'dog' in mystr.lower()\n"
   ]
  },
  {
   "cell_type": "code",
   "execution_count": 125,
   "metadata": {},
   "outputs": [
    {
     "data": {
      "text/plain": [
       "True"
      ]
     },
     "execution_count": 125,
     "metadata": {},
     "output_type": "execute_result"
    }
   ],
   "source": [
    "dog_check('po ra na dog poindi')"
   ]
  },
  {
   "cell_type": "markdown",
   "metadata": {},
   "source": [
    "#### PIG LATIN"
   ]
  },
  {
   "cell_type": "code",
   "execution_count": 134,
   "metadata": {},
   "outputs": [],
   "source": [
    "def secret(word):\n",
    "    letter1 = word[0]\n",
    "    \n",
    "    if letter1 in 'aeiou':\n",
    "        secret_word = word + 'ay'\n",
    "    else:\n",
    "        secret_word = word[1:]+letter1 +'ay'\n",
    "    return secret_word\n",
    "    "
   ]
  },
  {
   "cell_type": "code",
   "execution_count": 135,
   "metadata": {},
   "outputs": [
    {
     "data": {
      "text/plain": [
       "'harathsay'"
      ]
     },
     "execution_count": 135,
     "metadata": {},
     "output_type": "execute_result"
    }
   ],
   "source": [
    "secret('sharath')"
   ]
  },
  {
   "cell_type": "code",
   "execution_count": null,
   "metadata": {},
   "outputs": [],
   "source": [
    "\n"
   ]
  },
  {
   "cell_type": "code",
   "execution_count": null,
   "metadata": {},
   "outputs": [],
   "source": []
  },
  {
   "cell_type": "markdown",
   "metadata": {},
   "source": [
    "## *args and *kwargs"
   ]
  },
  {
   "cell_type": "code",
   "execution_count": 161,
   "metadata": {},
   "outputs": [],
   "source": [
    "#if u want many arguments inside the function we use *args,\n",
    "#python takes it as *=depends on the user given agrs\n",
    "def myfunc(*args):\n",
    "    return sum(args) * 0.05"
   ]
  },
  {
   "cell_type": "code",
   "execution_count": 164,
   "metadata": {},
   "outputs": [
    {
     "data": {
      "text/plain": [
       "20619.65"
      ]
     },
     "execution_count": 164,
     "metadata": {},
     "output_type": "execute_result"
    }
   ],
   "source": [
    "myfunc(40,60,10,865,756,456,45456,364545,77,6,57,65) #takes many number of args"
   ]
  },
  {
   "cell_type": "code",
   "execution_count": 181,
   "metadata": {},
   "outputs": [],
   "source": [
    "# **kwargs are keyword arguments\n",
    "def myfun(**kwargs):\n",
    "    print(kwargs)\n",
    "    if 'fruit' in kwargs:\n",
    "        print('my fruit of choice is {}'.format(kwargs['fruit']))\n",
    "    else:\n",
    "        print('nak m fruit kanapadale :( '.format(kwargs['veg']))\n",
    "    "
   ]
  },
  {
   "cell_type": "code",
   "execution_count": 182,
   "metadata": {},
   "outputs": [
    {
     "name": "stdout",
     "output_type": "stream",
     "text": [
      "{'fruit': 'apple', 'veg': 'potato'}\n",
      "my fruit of choice is apple\n"
     ]
    }
   ],
   "source": [
    "\n",
    "myfun(fruit='apple', veg = 'potato')"
   ]
  },
  {
   "cell_type": "code",
   "execution_count": 1,
   "metadata": {},
   "outputs": [
    {
     "name": "stdout",
     "output_type": "stream",
     "text": [
      "HI a\n",
      "HI a\n",
      "HI b\n",
      "hi c\n",
      "1 ^4 + 1 ^4 = 1 ^4\n",
      "hi c\n",
      "hi c\n",
      "hi c\n",
      "hi c\n",
      "hi c\n",
      "hi c\n",
      "hi c\n",
      "hi c\n",
      "hi c\n",
      "HI b\n",
      "hi c\n",
      "hi c\n",
      "1 ^4 + 2 ^4 = 2 ^4\n",
      "hi c\n",
      "hi c\n",
      "hi c\n",
      "hi c\n",
      "hi c\n",
      "hi c\n",
      "hi c\n",
      "hi c\n",
      "HI b\n",
      "hi c\n",
      "hi c\n",
      "hi c\n",
      "1 ^4 + 3 ^4 = 3 ^4\n",
      "hi c\n",
      "hi c\n",
      "hi c\n",
      "hi c\n",
      "hi c\n",
      "hi c\n",
      "hi c\n",
      "HI b\n",
      "hi c\n",
      "hi c\n",
      "hi c\n",
      "hi c\n",
      "1 ^4 + 4 ^4 = 4 ^4\n",
      "hi c\n",
      "hi c\n",
      "hi c\n",
      "hi c\n",
      "hi c\n",
      "hi c\n",
      "HI b\n",
      "hi c\n",
      "hi c\n",
      "hi c\n",
      "hi c\n",
      "hi c\n",
      "1 ^4 + 5 ^4 = 5 ^4\n",
      "hi c\n",
      "hi c\n",
      "hi c\n",
      "hi c\n",
      "hi c\n",
      "HI b\n",
      "hi c\n",
      "hi c\n",
      "hi c\n",
      "hi c\n",
      "hi c\n",
      "hi c\n",
      "1 ^4 + 6 ^4 = 6 ^4\n",
      "hi c\n",
      "hi c\n",
      "hi c\n",
      "hi c\n",
      "HI b\n",
      "hi c\n",
      "hi c\n",
      "hi c\n",
      "hi c\n",
      "hi c\n",
      "hi c\n",
      "hi c\n",
      "1 ^4 + 7 ^4 = 7 ^4\n",
      "hi c\n",
      "hi c\n",
      "hi c\n",
      "HI b\n",
      "hi c\n",
      "hi c\n",
      "hi c\n",
      "hi c\n",
      "hi c\n",
      "hi c\n",
      "hi c\n",
      "hi c\n",
      "1 ^4 + 8 ^4 = 8 ^4\n",
      "hi c\n",
      "hi c\n",
      "HI b\n",
      "hi c\n",
      "hi c\n",
      "hi c\n",
      "hi c\n",
      "hi c\n",
      "hi c\n",
      "hi c\n",
      "hi c\n",
      "hi c\n",
      "1 ^4 + 9 ^4 = 9 ^4\n",
      "hi c\n",
      "HI b\n",
      "hi c\n",
      "hi c\n",
      "hi c\n",
      "hi c\n",
      "hi c\n",
      "hi c\n",
      "hi c\n",
      "hi c\n",
      "hi c\n",
      "hi c\n",
      "1 ^4 + 10 ^4 = 10 ^4\n",
      "HI a\n",
      "HI b\n",
      "hi c\n",
      "hi c\n",
      "2 ^4 + 1 ^4 = 2 ^4\n",
      "hi c\n",
      "hi c\n",
      "hi c\n",
      "hi c\n",
      "hi c\n",
      "hi c\n",
      "hi c\n",
      "hi c\n",
      "HI b\n",
      "hi c\n",
      "hi c\n",
      "hi c\n",
      "hi c\n",
      "hi c\n",
      "hi c\n",
      "hi c\n",
      "hi c\n",
      "hi c\n",
      "hi c\n",
      "HI b\n",
      "hi c\n",
      "hi c\n",
      "hi c\n",
      "hi c\n",
      "hi c\n",
      "hi c\n",
      "hi c\n",
      "hi c\n",
      "hi c\n",
      "hi c\n",
      "HI b\n",
      "hi c\n",
      "hi c\n",
      "hi c\n",
      "hi c\n",
      "hi c\n",
      "hi c\n",
      "hi c\n",
      "hi c\n",
      "hi c\n",
      "hi c\n",
      "HI b\n",
      "hi c\n",
      "hi c\n",
      "hi c\n",
      "hi c\n",
      "hi c\n",
      "hi c\n",
      "hi c\n",
      "hi c\n",
      "hi c\n",
      "hi c\n",
      "HI b\n",
      "hi c\n",
      "hi c\n",
      "hi c\n",
      "hi c\n",
      "hi c\n",
      "hi c\n",
      "hi c\n",
      "hi c\n",
      "hi c\n",
      "hi c\n",
      "HI b\n",
      "hi c\n",
      "hi c\n",
      "hi c\n",
      "hi c\n",
      "hi c\n",
      "hi c\n",
      "hi c\n",
      "hi c\n",
      "hi c\n",
      "hi c\n",
      "HI b\n",
      "hi c\n",
      "hi c\n",
      "hi c\n",
      "hi c\n",
      "hi c\n",
      "hi c\n",
      "hi c\n",
      "hi c\n",
      "hi c\n",
      "hi c\n",
      "HI b\n",
      "hi c\n",
      "hi c\n",
      "hi c\n",
      "hi c\n",
      "hi c\n",
      "hi c\n",
      "hi c\n",
      "hi c\n",
      "hi c\n",
      "hi c\n",
      "HI b\n",
      "hi c\n",
      "hi c\n",
      "hi c\n",
      "hi c\n",
      "hi c\n",
      "hi c\n",
      "hi c\n",
      "hi c\n",
      "hi c\n",
      "hi c\n",
      "HI a\n",
      "HI b\n",
      "hi c\n",
      "hi c\n",
      "hi c\n",
      "3 ^4 + 1 ^4 = 3 ^4\n",
      "hi c\n",
      "hi c\n",
      "hi c\n",
      "hi c\n",
      "hi c\n",
      "hi c\n",
      "hi c\n",
      "HI b\n",
      "hi c\n",
      "hi c\n",
      "hi c\n",
      "hi c\n",
      "hi c\n",
      "hi c\n",
      "hi c\n",
      "hi c\n",
      "hi c\n",
      "hi c\n",
      "HI b\n",
      "hi c\n",
      "hi c\n",
      "hi c\n",
      "hi c\n",
      "hi c\n",
      "hi c\n",
      "hi c\n",
      "hi c\n",
      "hi c\n",
      "hi c\n",
      "HI b\n",
      "hi c\n",
      "hi c\n",
      "hi c\n",
      "hi c\n",
      "hi c\n",
      "hi c\n",
      "hi c\n",
      "hi c\n",
      "hi c\n",
      "hi c\n",
      "HI b\n",
      "hi c\n",
      "hi c\n",
      "hi c\n",
      "hi c\n",
      "hi c\n",
      "hi c\n",
      "hi c\n",
      "hi c\n",
      "hi c\n",
      "hi c\n",
      "HI b\n",
      "hi c\n",
      "hi c\n",
      "hi c\n",
      "hi c\n",
      "hi c\n",
      "hi c\n",
      "hi c\n",
      "hi c\n",
      "hi c\n",
      "hi c\n",
      "HI b\n",
      "hi c\n",
      "hi c\n",
      "hi c\n",
      "hi c\n",
      "hi c\n",
      "hi c\n",
      "hi c\n",
      "hi c\n",
      "hi c\n",
      "hi c\n",
      "HI b\n",
      "hi c\n",
      "hi c\n",
      "hi c\n",
      "hi c\n",
      "hi c\n",
      "hi c\n",
      "hi c\n",
      "hi c\n",
      "hi c\n",
      "hi c\n",
      "HI b\n",
      "hi c\n",
      "hi c\n",
      "hi c\n",
      "hi c\n",
      "hi c\n",
      "hi c\n",
      "hi c\n",
      "hi c\n",
      "hi c\n",
      "hi c\n",
      "HI b\n",
      "hi c\n",
      "hi c\n",
      "hi c\n",
      "hi c\n",
      "hi c\n",
      "hi c\n",
      "hi c\n",
      "hi c\n",
      "hi c\n",
      "hi c\n",
      "HI a\n",
      "HI b\n",
      "hi c\n",
      "hi c\n",
      "hi c\n",
      "hi c\n",
      "4 ^4 + 1 ^4 = 4 ^4\n",
      "hi c\n",
      "hi c\n",
      "hi c\n",
      "hi c\n",
      "hi c\n",
      "hi c\n",
      "HI b\n",
      "hi c\n",
      "hi c\n",
      "hi c\n",
      "hi c\n",
      "hi c\n",
      "hi c\n",
      "hi c\n",
      "hi c\n",
      "hi c\n",
      "hi c\n",
      "HI b\n",
      "hi c\n",
      "hi c\n",
      "hi c\n",
      "hi c\n",
      "hi c\n",
      "hi c\n",
      "hi c\n",
      "hi c\n",
      "hi c\n",
      "hi c\n",
      "HI b\n",
      "hi c\n",
      "hi c\n",
      "hi c\n",
      "hi c\n",
      "hi c\n",
      "hi c\n",
      "hi c\n",
      "hi c\n",
      "hi c\n",
      "hi c\n",
      "HI b\n",
      "hi c\n",
      "hi c\n",
      "hi c\n",
      "hi c\n",
      "hi c\n",
      "hi c\n",
      "4 ^4 + 5 ^4 = 6 ^4\n",
      "hi c\n",
      "hi c\n",
      "hi c\n",
      "hi c\n",
      "HI b\n",
      "hi c\n",
      "hi c\n",
      "hi c\n",
      "hi c\n",
      "hi c\n",
      "hi c\n",
      "hi c\n",
      "hi c\n",
      "hi c\n",
      "hi c\n",
      "HI b\n",
      "hi c\n",
      "hi c\n",
      "hi c\n",
      "hi c\n",
      "hi c\n",
      "hi c\n",
      "hi c\n",
      "hi c\n",
      "hi c\n",
      "hi c\n",
      "HI b\n",
      "hi c\n",
      "hi c\n",
      "hi c\n",
      "hi c\n",
      "hi c\n",
      "hi c\n",
      "hi c\n",
      "hi c\n",
      "hi c\n",
      "hi c\n",
      "HI b\n",
      "hi c\n",
      "hi c\n",
      "hi c\n",
      "hi c\n",
      "hi c\n",
      "hi c\n",
      "hi c\n",
      "hi c\n",
      "hi c\n",
      "hi c\n",
      "HI b\n",
      "hi c\n",
      "hi c\n",
      "hi c\n",
      "hi c\n",
      "hi c\n",
      "hi c\n",
      "hi c\n",
      "hi c\n",
      "hi c\n",
      "hi c\n",
      "HI a\n",
      "HI b\n",
      "hi c\n",
      "hi c\n",
      "hi c\n",
      "hi c\n",
      "hi c\n",
      "5 ^4 + 1 ^4 = 5 ^4\n",
      "hi c\n",
      "hi c\n",
      "hi c\n",
      "hi c\n",
      "hi c\n",
      "HI b\n",
      "hi c\n",
      "hi c\n",
      "hi c\n",
      "hi c\n",
      "hi c\n",
      "hi c\n",
      "hi c\n",
      "hi c\n",
      "hi c\n",
      "hi c\n",
      "HI b\n",
      "hi c\n",
      "hi c\n",
      "hi c\n",
      "hi c\n",
      "hi c\n",
      "hi c\n",
      "hi c\n",
      "hi c\n",
      "hi c\n",
      "hi c\n",
      "HI b\n",
      "hi c\n",
      "hi c\n",
      "hi c\n",
      "hi c\n",
      "hi c\n",
      "hi c\n",
      "5 ^4 + 4 ^4 = 6 ^4\n",
      "hi c\n",
      "hi c\n",
      "hi c\n",
      "hi c\n",
      "HI b\n",
      "hi c\n",
      "hi c\n",
      "hi c\n",
      "hi c\n",
      "hi c\n",
      "hi c\n",
      "hi c\n",
      "hi c\n",
      "hi c\n",
      "hi c\n",
      "HI b\n",
      "hi c\n",
      "hi c\n",
      "hi c\n",
      "hi c\n",
      "hi c\n",
      "hi c\n",
      "hi c\n",
      "hi c\n",
      "hi c\n",
      "hi c\n",
      "HI b\n",
      "hi c\n",
      "hi c\n",
      "hi c\n",
      "hi c\n",
      "hi c\n",
      "hi c\n",
      "hi c\n",
      "hi c\n",
      "hi c\n",
      "hi c\n",
      "HI b\n",
      "hi c\n",
      "hi c\n",
      "hi c\n",
      "hi c\n",
      "hi c\n",
      "hi c\n",
      "hi c\n",
      "hi c\n",
      "hi c\n",
      "hi c\n",
      "HI b\n",
      "hi c\n",
      "hi c\n",
      "hi c\n",
      "hi c\n",
      "hi c\n",
      "hi c\n",
      "hi c\n",
      "hi c\n",
      "hi c\n",
      "hi c\n",
      "HI b\n",
      "hi c\n",
      "hi c\n",
      "hi c\n",
      "hi c\n",
      "hi c\n",
      "hi c\n",
      "hi c\n",
      "hi c\n",
      "hi c\n",
      "hi c\n",
      "HI a\n",
      "HI b\n",
      "hi c\n",
      "hi c\n",
      "hi c\n",
      "hi c\n",
      "hi c\n",
      "hi c\n",
      "6 ^4 + 1 ^4 = 6 ^4\n",
      "hi c\n",
      "hi c\n",
      "hi c\n",
      "hi c\n",
      "HI b\n",
      "hi c\n",
      "hi c\n",
      "hi c\n",
      "hi c\n",
      "hi c\n",
      "hi c\n",
      "hi c\n",
      "hi c\n",
      "hi c\n",
      "hi c\n",
      "HI b\n",
      "hi c\n",
      "hi c\n",
      "hi c\n",
      "hi c\n",
      "hi c\n",
      "hi c\n",
      "hi c\n",
      "hi c\n",
      "hi c\n",
      "hi c\n",
      "HI b\n",
      "hi c\n",
      "hi c\n",
      "hi c\n",
      "hi c\n",
      "hi c\n",
      "hi c\n",
      "hi c\n",
      "hi c\n",
      "hi c\n",
      "hi c\n",
      "HI b\n",
      "hi c\n",
      "hi c\n",
      "hi c\n",
      "hi c\n",
      "hi c\n",
      "hi c\n",
      "hi c\n",
      "hi c\n",
      "hi c\n",
      "hi c\n",
      "HI b\n",
      "hi c\n",
      "hi c\n",
      "hi c\n",
      "hi c\n",
      "hi c\n",
      "hi c\n",
      "hi c\n",
      "hi c\n",
      "hi c\n",
      "hi c\n",
      "HI b\n",
      "hi c\n",
      "hi c\n",
      "hi c\n",
      "hi c\n",
      "hi c\n",
      "hi c\n",
      "hi c\n",
      "hi c\n",
      "hi c\n",
      "hi c\n",
      "HI b\n",
      "hi c\n",
      "hi c\n",
      "hi c\n",
      "hi c\n",
      "hi c\n",
      "hi c\n",
      "hi c\n",
      "hi c\n",
      "hi c\n",
      "hi c\n",
      "HI b\n",
      "hi c\n",
      "hi c\n",
      "hi c\n",
      "hi c\n",
      "hi c\n",
      "hi c\n",
      "hi c\n",
      "hi c\n",
      "hi c\n",
      "hi c\n",
      "HI b\n",
      "hi c\n",
      "hi c\n",
      "hi c\n",
      "hi c\n",
      "hi c\n",
      "hi c\n",
      "hi c\n",
      "hi c\n",
      "hi c\n",
      "hi c\n",
      "HI a\n",
      "HI b\n",
      "hi c\n",
      "hi c\n",
      "hi c\n",
      "hi c\n",
      "hi c\n",
      "hi c\n",
      "hi c\n",
      "7 ^4 + 1 ^4 = 7 ^4\n",
      "hi c\n",
      "hi c\n",
      "hi c\n",
      "HI b\n",
      "hi c\n",
      "hi c\n",
      "hi c\n",
      "hi c\n",
      "hi c\n",
      "hi c\n",
      "hi c\n",
      "hi c\n",
      "hi c\n",
      "hi c\n",
      "HI b\n",
      "hi c\n",
      "hi c\n",
      "hi c\n",
      "hi c\n",
      "hi c\n",
      "hi c\n",
      "hi c\n",
      "hi c\n",
      "hi c\n",
      "hi c\n",
      "HI b\n",
      "hi c\n",
      "hi c\n",
      "hi c\n",
      "hi c\n",
      "hi c\n",
      "hi c\n",
      "hi c\n",
      "hi c\n",
      "hi c\n",
      "hi c\n",
      "HI b\n",
      "hi c\n",
      "hi c\n",
      "hi c\n",
      "hi c\n",
      "hi c\n",
      "hi c\n",
      "hi c\n",
      "hi c\n",
      "hi c\n",
      "hi c\n",
      "HI b\n",
      "hi c\n",
      "hi c\n",
      "hi c\n",
      "hi c\n",
      "hi c\n",
      "hi c\n",
      "hi c\n",
      "hi c\n",
      "hi c\n",
      "hi c\n",
      "HI b\n",
      "hi c\n",
      "hi c\n",
      "hi c\n",
      "hi c\n",
      "hi c\n",
      "hi c\n",
      "hi c\n",
      "hi c\n",
      "hi c\n",
      "hi c\n",
      "HI b\n",
      "hi c\n",
      "hi c\n",
      "hi c\n",
      "hi c\n",
      "hi c\n",
      "hi c\n",
      "hi c\n",
      "hi c\n",
      "hi c\n",
      "hi c\n",
      "HI b\n",
      "hi c\n",
      "hi c\n",
      "hi c\n",
      "hi c\n",
      "hi c\n",
      "hi c\n",
      "hi c\n",
      "hi c\n",
      "hi c\n",
      "hi c\n",
      "HI b\n",
      "hi c\n",
      "hi c\n",
      "hi c\n",
      "hi c\n",
      "hi c\n",
      "hi c\n",
      "hi c\n",
      "hi c\n",
      "hi c\n",
      "hi c\n",
      "HI a\n",
      "HI b\n",
      "hi c\n",
      "hi c\n",
      "hi c\n",
      "hi c\n",
      "hi c\n",
      "hi c\n",
      "hi c\n",
      "hi c\n",
      "8 ^4 + 1 ^4 = 8 ^4\n",
      "hi c\n",
      "hi c\n",
      "HI b\n",
      "hi c\n",
      "hi c\n",
      "hi c\n",
      "hi c\n",
      "hi c\n",
      "hi c\n",
      "hi c\n",
      "hi c\n",
      "hi c\n",
      "hi c\n",
      "HI b\n",
      "hi c\n",
      "hi c\n",
      "hi c\n",
      "hi c\n",
      "hi c\n",
      "hi c\n",
      "hi c\n",
      "hi c\n",
      "hi c\n",
      "hi c\n",
      "HI b\n",
      "hi c\n",
      "hi c\n",
      "hi c\n",
      "hi c\n",
      "hi c\n",
      "hi c\n",
      "hi c\n",
      "hi c\n",
      "hi c\n",
      "hi c\n",
      "HI b\n",
      "hi c\n",
      "hi c\n",
      "hi c\n",
      "hi c\n",
      "hi c\n",
      "hi c\n",
      "hi c\n",
      "hi c\n",
      "hi c\n",
      "hi c\n",
      "HI b\n",
      "hi c\n",
      "hi c\n",
      "hi c\n",
      "hi c\n",
      "hi c\n",
      "hi c\n",
      "hi c\n",
      "hi c\n",
      "hi c\n",
      "hi c\n",
      "HI b\n",
      "hi c\n",
      "hi c\n",
      "hi c\n",
      "hi c\n",
      "hi c\n",
      "hi c\n",
      "hi c\n",
      "hi c\n",
      "hi c\n",
      "hi c\n",
      "HI b\n",
      "hi c\n",
      "hi c\n",
      "hi c\n",
      "hi c\n",
      "hi c\n",
      "hi c\n",
      "hi c\n",
      "hi c\n",
      "hi c\n",
      "hi c\n",
      "HI b\n",
      "hi c\n",
      "hi c\n",
      "hi c\n",
      "hi c\n",
      "hi c\n",
      "hi c\n",
      "hi c\n",
      "hi c\n",
      "hi c\n",
      "hi c\n",
      "HI b\n",
      "hi c\n",
      "hi c\n",
      "hi c\n",
      "hi c\n",
      "hi c\n",
      "hi c\n",
      "hi c\n",
      "hi c\n",
      "hi c\n",
      "hi c\n",
      "HI a\n",
      "HI b\n",
      "hi c\n",
      "hi c\n",
      "hi c\n",
      "hi c\n",
      "hi c\n",
      "hi c\n",
      "hi c\n",
      "hi c\n",
      "hi c\n",
      "9 ^4 + 1 ^4 = 9 ^4\n",
      "hi c\n",
      "HI b\n",
      "hi c\n",
      "hi c\n",
      "hi c\n",
      "hi c\n",
      "hi c\n",
      "hi c\n",
      "hi c\n",
      "hi c\n",
      "hi c\n",
      "hi c\n",
      "HI b\n",
      "hi c\n",
      "hi c\n",
      "hi c\n",
      "hi c\n",
      "hi c\n",
      "hi c\n",
      "hi c\n",
      "hi c\n",
      "hi c\n",
      "hi c\n",
      "HI b\n",
      "hi c\n",
      "hi c\n",
      "hi c\n",
      "hi c\n",
      "hi c\n",
      "hi c\n",
      "hi c\n",
      "hi c\n",
      "hi c\n",
      "hi c\n",
      "HI b\n",
      "hi c\n",
      "hi c\n",
      "hi c\n",
      "hi c\n",
      "hi c\n",
      "hi c\n",
      "hi c\n",
      "hi c\n",
      "hi c\n",
      "hi c\n",
      "HI b\n",
      "hi c\n",
      "hi c\n",
      "hi c\n",
      "hi c\n",
      "hi c\n",
      "hi c\n",
      "hi c\n",
      "hi c\n",
      "hi c\n",
      "hi c\n",
      "HI b\n",
      "hi c\n",
      "hi c\n",
      "hi c\n",
      "hi c\n",
      "hi c\n",
      "hi c\n",
      "hi c\n",
      "hi c\n",
      "hi c\n",
      "hi c\n",
      "HI b\n",
      "hi c\n",
      "hi c\n",
      "hi c\n",
      "hi c\n",
      "hi c\n",
      "hi c\n",
      "hi c\n",
      "hi c\n",
      "hi c\n",
      "hi c\n",
      "HI b\n",
      "hi c\n",
      "hi c\n",
      "hi c\n",
      "hi c\n",
      "hi c\n",
      "hi c\n",
      "hi c\n",
      "hi c\n",
      "hi c\n",
      "hi c\n",
      "HI b\n",
      "hi c\n",
      "hi c\n",
      "hi c\n",
      "hi c\n",
      "hi c\n",
      "hi c\n",
      "hi c\n",
      "hi c\n",
      "hi c\n",
      "hi c\n",
      "HI a\n",
      "HI b\n",
      "hi c\n",
      "hi c\n",
      "hi c\n",
      "hi c\n",
      "hi c\n",
      "hi c\n",
      "hi c\n",
      "hi c\n",
      "hi c\n",
      "hi c\n",
      "10 ^4 + 1 ^4 = 10 ^4\n",
      "HI b\n",
      "hi c\n",
      "hi c\n",
      "hi c\n",
      "hi c\n",
      "hi c\n",
      "hi c\n",
      "hi c\n",
      "hi c\n",
      "hi c\n",
      "hi c\n",
      "HI b\n",
      "hi c\n",
      "hi c\n",
      "hi c\n",
      "hi c\n",
      "hi c\n",
      "hi c\n",
      "hi c\n",
      "hi c\n",
      "hi c\n",
      "hi c\n",
      "HI b\n",
      "hi c\n",
      "hi c\n",
      "hi c\n",
      "hi c\n",
      "hi c\n",
      "hi c\n",
      "hi c\n",
      "hi c\n",
      "hi c\n",
      "hi c\n",
      "HI b\n",
      "hi c\n",
      "hi c\n",
      "hi c\n",
      "hi c\n",
      "hi c\n",
      "hi c\n",
      "hi c\n",
      "hi c\n",
      "hi c\n",
      "hi c\n",
      "HI b\n",
      "hi c\n",
      "hi c\n",
      "hi c\n",
      "hi c\n",
      "hi c\n",
      "hi c\n",
      "hi c\n",
      "hi c\n",
      "hi c\n",
      "hi c\n",
      "HI b\n",
      "hi c\n",
      "hi c\n",
      "hi c\n",
      "hi c\n",
      "hi c\n",
      "hi c\n",
      "hi c\n",
      "hi c\n",
      "hi c\n",
      "hi c\n",
      "HI b\n",
      "hi c\n",
      "hi c\n",
      "hi c\n",
      "hi c\n",
      "hi c\n",
      "hi c\n",
      "hi c\n",
      "hi c\n",
      "hi c\n",
      "hi c\n",
      "HI b\n",
      "hi c\n",
      "hi c\n",
      "hi c\n",
      "hi c\n",
      "hi c\n",
      "hi c\n",
      "hi c\n",
      "hi c\n",
      "hi c\n",
      "hi c\n",
      "HI b\n",
      "hi c\n",
      "hi c\n",
      "hi c\n",
      "hi c\n",
      "hi c\n",
      "hi c\n",
      "hi c\n",
      "hi c\n",
      "hi c\n",
      "hi c\n"
     ]
    }
   ],
   "source": [
    "n = 2\n",
    "print('HI a')\n",
    "for a in range(0,10):\n",
    "    if(a<10):\n",
    "        A = a**n\n",
    "        a = a+1 \n",
    "        print('HI a')\n",
    "        for b in range(0,10):\n",
    "            if(b<10):\n",
    "                B = b**n\n",
    "                b = b+1\n",
    "                print('HI b')\n",
    "                for c in range(0,10):\n",
    "                    if(c<10):\n",
    "                        C = c**n\n",
    "                        c=c+1\n",
    "                        print('hi c')\n",
    "                        if(C==A+B):\n",
    "                            print(a,'^4 +',b,'^4 =',c,'^4') \n",
    "                   \n",
    "                    \n",
    "                        \n",
    "        \n",
    "            \n",
    "                "
   ]
  },
  {
   "cell_type": "code",
   "execution_count": 2,
   "metadata": {},
   "outputs": [
    {
     "name": "stdout",
     "output_type": "stream",
     "text": [
      "HI a\n",
      "HI a\n",
      "HI b\n",
      "hi c\n",
      "1 ^4 + 1 ^4 = 1 ^4\n",
      "hi c\n",
      "hi c\n",
      "hi c\n",
      "hi c\n",
      "hi c\n",
      "hi c\n",
      "hi c\n",
      "hi c\n",
      "hi c\n",
      "HI b\n",
      "hi c\n",
      "hi c\n",
      "1 ^4 + 2 ^4 = 2 ^4\n",
      "hi c\n",
      "hi c\n",
      "hi c\n",
      "hi c\n",
      "hi c\n",
      "hi c\n",
      "hi c\n",
      "hi c\n",
      "HI b\n",
      "hi c\n",
      "hi c\n",
      "hi c\n",
      "1 ^4 + 3 ^4 = 3 ^4\n",
      "hi c\n",
      "hi c\n",
      "hi c\n",
      "hi c\n",
      "hi c\n",
      "hi c\n",
      "hi c\n",
      "HI b\n",
      "hi c\n",
      "hi c\n",
      "hi c\n",
      "hi c\n",
      "1 ^4 + 4 ^4 = 4 ^4\n",
      "hi c\n",
      "hi c\n",
      "hi c\n",
      "hi c\n",
      "hi c\n",
      "hi c\n",
      "HI b\n",
      "hi c\n",
      "hi c\n",
      "hi c\n",
      "hi c\n",
      "hi c\n",
      "1 ^4 + 5 ^4 = 5 ^4\n",
      "hi c\n",
      "hi c\n",
      "hi c\n",
      "hi c\n",
      "hi c\n",
      "HI b\n",
      "hi c\n",
      "hi c\n",
      "hi c\n",
      "hi c\n",
      "hi c\n",
      "hi c\n",
      "1 ^4 + 6 ^4 = 6 ^4\n",
      "hi c\n",
      "hi c\n",
      "hi c\n",
      "hi c\n",
      "HI b\n",
      "hi c\n",
      "hi c\n",
      "hi c\n",
      "hi c\n",
      "hi c\n",
      "hi c\n",
      "hi c\n",
      "1 ^4 + 7 ^4 = 7 ^4\n",
      "hi c\n",
      "hi c\n",
      "hi c\n",
      "HI b\n",
      "hi c\n",
      "hi c\n",
      "hi c\n",
      "hi c\n",
      "hi c\n",
      "hi c\n",
      "hi c\n",
      "hi c\n",
      "1 ^4 + 8 ^4 = 8 ^4\n",
      "hi c\n",
      "hi c\n",
      "HI b\n",
      "hi c\n",
      "hi c\n",
      "hi c\n",
      "hi c\n",
      "hi c\n",
      "hi c\n",
      "hi c\n",
      "hi c\n",
      "hi c\n",
      "1 ^4 + 9 ^4 = 9 ^4\n",
      "hi c\n",
      "HI b\n",
      "hi c\n",
      "hi c\n",
      "hi c\n",
      "hi c\n",
      "hi c\n",
      "hi c\n",
      "hi c\n",
      "hi c\n",
      "hi c\n",
      "hi c\n",
      "1 ^4 + 10 ^4 = 10 ^4\n",
      "HI a\n",
      "HI b\n",
      "hi c\n",
      "hi c\n",
      "2 ^4 + 1 ^4 = 2 ^4\n",
      "hi c\n",
      "hi c\n",
      "hi c\n",
      "hi c\n",
      "hi c\n",
      "hi c\n",
      "hi c\n",
      "hi c\n",
      "HI b\n",
      "hi c\n",
      "hi c\n",
      "hi c\n",
      "hi c\n",
      "hi c\n",
      "hi c\n",
      "hi c\n",
      "hi c\n",
      "hi c\n",
      "hi c\n",
      "HI b\n",
      "hi c\n",
      "hi c\n",
      "hi c\n",
      "hi c\n",
      "hi c\n",
      "hi c\n",
      "hi c\n",
      "hi c\n",
      "hi c\n",
      "hi c\n",
      "HI b\n",
      "hi c\n",
      "hi c\n",
      "hi c\n",
      "hi c\n",
      "hi c\n",
      "hi c\n",
      "hi c\n",
      "hi c\n",
      "hi c\n",
      "hi c\n",
      "HI b\n",
      "hi c\n",
      "hi c\n",
      "hi c\n",
      "hi c\n",
      "hi c\n",
      "hi c\n",
      "hi c\n",
      "hi c\n",
      "hi c\n",
      "hi c\n",
      "HI b\n",
      "hi c\n",
      "hi c\n",
      "hi c\n",
      "hi c\n",
      "hi c\n",
      "hi c\n",
      "hi c\n",
      "hi c\n",
      "hi c\n",
      "hi c\n",
      "HI b\n",
      "hi c\n",
      "hi c\n",
      "hi c\n",
      "hi c\n",
      "hi c\n",
      "hi c\n",
      "hi c\n",
      "hi c\n",
      "hi c\n",
      "hi c\n",
      "HI b\n",
      "hi c\n",
      "hi c\n",
      "hi c\n",
      "hi c\n",
      "hi c\n",
      "hi c\n",
      "hi c\n",
      "hi c\n",
      "hi c\n",
      "hi c\n",
      "HI b\n",
      "hi c\n",
      "hi c\n",
      "hi c\n",
      "hi c\n",
      "hi c\n",
      "hi c\n",
      "hi c\n",
      "hi c\n",
      "hi c\n",
      "hi c\n",
      "HI b\n",
      "hi c\n",
      "hi c\n",
      "hi c\n",
      "hi c\n",
      "hi c\n",
      "hi c\n",
      "hi c\n",
      "hi c\n",
      "hi c\n",
      "hi c\n",
      "HI a\n",
      "HI b\n",
      "hi c\n",
      "hi c\n",
      "hi c\n",
      "3 ^4 + 1 ^4 = 3 ^4\n",
      "hi c\n",
      "hi c\n",
      "hi c\n",
      "hi c\n",
      "hi c\n",
      "hi c\n",
      "hi c\n",
      "HI b\n",
      "hi c\n",
      "hi c\n",
      "hi c\n",
      "hi c\n",
      "hi c\n",
      "hi c\n",
      "hi c\n",
      "hi c\n",
      "hi c\n",
      "hi c\n",
      "HI b\n",
      "hi c\n",
      "hi c\n",
      "hi c\n",
      "hi c\n",
      "hi c\n",
      "hi c\n",
      "hi c\n",
      "hi c\n",
      "hi c\n",
      "hi c\n",
      "HI b\n",
      "hi c\n",
      "hi c\n",
      "hi c\n",
      "hi c\n",
      "hi c\n",
      "hi c\n",
      "hi c\n",
      "hi c\n",
      "hi c\n",
      "hi c\n",
      "HI b\n",
      "hi c\n",
      "hi c\n",
      "hi c\n",
      "hi c\n",
      "hi c\n",
      "hi c\n",
      "hi c\n",
      "hi c\n",
      "hi c\n",
      "hi c\n",
      "HI b\n",
      "hi c\n",
      "hi c\n",
      "hi c\n",
      "hi c\n",
      "hi c\n",
      "hi c\n",
      "hi c\n",
      "hi c\n",
      "hi c\n",
      "hi c\n",
      "HI b\n",
      "hi c\n",
      "hi c\n",
      "hi c\n",
      "hi c\n",
      "hi c\n",
      "hi c\n",
      "hi c\n",
      "hi c\n",
      "hi c\n",
      "hi c\n",
      "HI b\n",
      "hi c\n",
      "hi c\n",
      "hi c\n",
      "hi c\n",
      "hi c\n",
      "hi c\n",
      "hi c\n",
      "hi c\n",
      "hi c\n",
      "hi c\n",
      "HI b\n",
      "hi c\n",
      "hi c\n",
      "hi c\n",
      "hi c\n",
      "hi c\n",
      "hi c\n",
      "hi c\n",
      "hi c\n",
      "hi c\n",
      "hi c\n",
      "HI b\n",
      "hi c\n",
      "hi c\n",
      "hi c\n",
      "hi c\n",
      "hi c\n",
      "hi c\n",
      "hi c\n",
      "hi c\n",
      "hi c\n",
      "hi c\n",
      "HI a\n",
      "HI b\n",
      "hi c\n",
      "hi c\n",
      "hi c\n",
      "hi c\n",
      "4 ^4 + 1 ^4 = 4 ^4\n",
      "hi c\n",
      "hi c\n",
      "hi c\n",
      "hi c\n",
      "hi c\n",
      "hi c\n",
      "HI b\n",
      "hi c\n",
      "hi c\n",
      "hi c\n",
      "hi c\n",
      "hi c\n",
      "hi c\n",
      "hi c\n",
      "hi c\n",
      "hi c\n",
      "hi c\n",
      "HI b\n",
      "hi c\n",
      "hi c\n",
      "hi c\n",
      "hi c\n",
      "hi c\n",
      "hi c\n",
      "hi c\n",
      "hi c\n",
      "hi c\n",
      "hi c\n",
      "HI b\n",
      "hi c\n",
      "hi c\n",
      "hi c\n",
      "hi c\n",
      "hi c\n",
      "hi c\n",
      "hi c\n",
      "hi c\n",
      "hi c\n",
      "hi c\n",
      "HI b\n",
      "hi c\n",
      "hi c\n",
      "hi c\n",
      "hi c\n",
      "hi c\n",
      "hi c\n",
      "4 ^4 + 5 ^4 = 6 ^4\n",
      "hi c\n",
      "hi c\n",
      "hi c\n",
      "hi c\n",
      "HI b\n",
      "hi c\n",
      "hi c\n",
      "hi c\n",
      "hi c\n",
      "hi c\n",
      "hi c\n",
      "hi c\n",
      "hi c\n",
      "hi c\n",
      "hi c\n",
      "HI b\n",
      "hi c\n",
      "hi c\n",
      "hi c\n",
      "hi c\n",
      "hi c\n",
      "hi c\n",
      "hi c\n",
      "hi c\n",
      "hi c\n",
      "hi c\n",
      "HI b\n",
      "hi c\n",
      "hi c\n",
      "hi c\n",
      "hi c\n",
      "hi c\n",
      "hi c\n",
      "hi c\n",
      "hi c\n",
      "hi c\n",
      "hi c\n",
      "HI b\n",
      "hi c\n",
      "hi c\n",
      "hi c\n",
      "hi c\n",
      "hi c\n",
      "hi c\n",
      "hi c\n",
      "hi c\n",
      "hi c\n",
      "hi c\n",
      "HI b\n",
      "hi c\n",
      "hi c\n",
      "hi c\n",
      "hi c\n",
      "hi c\n",
      "hi c\n",
      "hi c\n",
      "hi c\n",
      "hi c\n",
      "hi c\n",
      "HI a\n",
      "HI b\n",
      "hi c\n",
      "hi c\n",
      "hi c\n",
      "hi c\n",
      "hi c\n",
      "5 ^4 + 1 ^4 = 5 ^4\n",
      "hi c\n",
      "hi c\n",
      "hi c\n",
      "hi c\n",
      "hi c\n",
      "HI b\n",
      "hi c\n",
      "hi c\n",
      "hi c\n",
      "hi c\n",
      "hi c\n",
      "hi c\n",
      "hi c\n",
      "hi c\n",
      "hi c\n",
      "hi c\n",
      "HI b\n",
      "hi c\n",
      "hi c\n",
      "hi c\n",
      "hi c\n",
      "hi c\n",
      "hi c\n",
      "hi c\n",
      "hi c\n",
      "hi c\n",
      "hi c\n",
      "HI b\n",
      "hi c\n",
      "hi c\n",
      "hi c\n",
      "hi c\n",
      "hi c\n",
      "hi c\n",
      "5 ^4 + 4 ^4 = 6 ^4\n",
      "hi c\n",
      "hi c\n",
      "hi c\n",
      "hi c\n",
      "HI b\n",
      "hi c\n",
      "hi c\n",
      "hi c\n",
      "hi c\n",
      "hi c\n",
      "hi c\n",
      "hi c\n",
      "hi c\n",
      "hi c\n",
      "hi c\n",
      "HI b\n",
      "hi c\n",
      "hi c\n",
      "hi c\n",
      "hi c\n",
      "hi c\n",
      "hi c\n",
      "hi c\n",
      "hi c\n",
      "hi c\n",
      "hi c\n",
      "HI b\n",
      "hi c\n",
      "hi c\n",
      "hi c\n",
      "hi c\n",
      "hi c\n",
      "hi c\n",
      "hi c\n",
      "hi c\n",
      "hi c\n",
      "hi c\n",
      "HI b\n",
      "hi c\n",
      "hi c\n",
      "hi c\n",
      "hi c\n",
      "hi c\n",
      "hi c\n",
      "hi c\n",
      "hi c\n",
      "hi c\n",
      "hi c\n",
      "HI b\n",
      "hi c\n",
      "hi c\n",
      "hi c\n",
      "hi c\n",
      "hi c\n",
      "hi c\n",
      "hi c\n",
      "hi c\n",
      "hi c\n",
      "hi c\n",
      "HI b\n",
      "hi c\n",
      "hi c\n",
      "hi c\n",
      "hi c\n",
      "hi c\n",
      "hi c\n",
      "hi c\n",
      "hi c\n",
      "hi c\n",
      "hi c\n",
      "HI a\n",
      "HI b\n",
      "hi c\n",
      "hi c\n",
      "hi c\n",
      "hi c\n",
      "hi c\n",
      "hi c\n",
      "6 ^4 + 1 ^4 = 6 ^4\n",
      "hi c\n",
      "hi c\n",
      "hi c\n",
      "hi c\n",
      "HI b\n",
      "hi c\n",
      "hi c\n",
      "hi c\n",
      "hi c\n",
      "hi c\n",
      "hi c\n",
      "hi c\n",
      "hi c\n",
      "hi c\n",
      "hi c\n",
      "HI b\n",
      "hi c\n",
      "hi c\n",
      "hi c\n",
      "hi c\n",
      "hi c\n",
      "hi c\n",
      "hi c\n",
      "hi c\n",
      "hi c\n",
      "hi c\n",
      "HI b\n",
      "hi c\n",
      "hi c\n",
      "hi c\n",
      "hi c\n",
      "hi c\n",
      "hi c\n",
      "hi c\n",
      "hi c\n",
      "hi c\n",
      "hi c\n",
      "HI b\n",
      "hi c\n",
      "hi c\n",
      "hi c\n",
      "hi c\n",
      "hi c\n",
      "hi c\n",
      "hi c\n",
      "hi c\n",
      "hi c\n",
      "hi c\n",
      "HI b\n",
      "hi c\n",
      "hi c\n",
      "hi c\n",
      "hi c\n",
      "hi c\n",
      "hi c\n",
      "hi c\n",
      "hi c\n",
      "hi c\n",
      "hi c\n",
      "HI b\n",
      "hi c\n",
      "hi c\n",
      "hi c\n",
      "hi c\n",
      "hi c\n",
      "hi c\n",
      "hi c\n",
      "hi c\n",
      "hi c\n",
      "hi c\n",
      "HI b\n",
      "hi c\n",
      "hi c\n",
      "hi c\n",
      "hi c\n",
      "hi c\n",
      "hi c\n",
      "hi c\n",
      "hi c\n",
      "hi c\n",
      "hi c\n",
      "HI b\n",
      "hi c\n",
      "hi c\n",
      "hi c\n",
      "hi c\n",
      "hi c\n",
      "hi c\n",
      "hi c\n",
      "hi c\n",
      "hi c\n",
      "hi c\n",
      "HI b\n",
      "hi c\n",
      "hi c\n",
      "hi c\n",
      "hi c\n",
      "hi c\n",
      "hi c\n",
      "hi c\n",
      "hi c\n",
      "hi c\n",
      "hi c\n",
      "HI a\n",
      "HI b\n",
      "hi c\n",
      "hi c\n",
      "hi c\n",
      "hi c\n",
      "hi c\n",
      "hi c\n",
      "hi c\n",
      "7 ^4 + 1 ^4 = 7 ^4\n",
      "hi c\n",
      "hi c\n",
      "hi c\n",
      "HI b\n",
      "hi c\n",
      "hi c\n",
      "hi c\n",
      "hi c\n",
      "hi c\n",
      "hi c\n",
      "hi c\n",
      "hi c\n",
      "hi c\n",
      "hi c\n",
      "HI b\n",
      "hi c\n",
      "hi c\n",
      "hi c\n",
      "hi c\n",
      "hi c\n",
      "hi c\n",
      "hi c\n",
      "hi c\n",
      "hi c\n",
      "hi c\n",
      "HI b\n",
      "hi c\n",
      "hi c\n",
      "hi c\n",
      "hi c\n",
      "hi c\n",
      "hi c\n",
      "hi c\n",
      "hi c\n",
      "hi c\n",
      "hi c\n",
      "HI b\n",
      "hi c\n",
      "hi c\n",
      "hi c\n",
      "hi c\n",
      "hi c\n",
      "hi c\n",
      "hi c\n",
      "hi c\n",
      "hi c\n",
      "hi c\n",
      "HI b\n",
      "hi c\n",
      "hi c\n",
      "hi c\n",
      "hi c\n",
      "hi c\n",
      "hi c\n",
      "hi c\n",
      "hi c\n",
      "hi c\n",
      "hi c\n",
      "HI b\n",
      "hi c\n",
      "hi c\n",
      "hi c\n",
      "hi c\n",
      "hi c\n",
      "hi c\n",
      "hi c\n",
      "hi c\n",
      "hi c\n",
      "hi c\n",
      "HI b\n",
      "hi c\n",
      "hi c\n",
      "hi c\n",
      "hi c\n",
      "hi c\n",
      "hi c\n",
      "hi c\n",
      "hi c\n",
      "hi c\n",
      "hi c\n",
      "HI b\n",
      "hi c\n",
      "hi c\n",
      "hi c\n",
      "hi c\n",
      "hi c\n",
      "hi c\n",
      "hi c\n",
      "hi c\n",
      "hi c\n",
      "hi c\n",
      "HI b\n",
      "hi c\n",
      "hi c\n",
      "hi c\n",
      "hi c\n",
      "hi c\n",
      "hi c\n",
      "hi c\n",
      "hi c\n",
      "hi c\n",
      "hi c\n",
      "HI a\n",
      "HI b\n",
      "hi c\n",
      "hi c\n",
      "hi c\n",
      "hi c\n",
      "hi c\n",
      "hi c\n",
      "hi c\n",
      "hi c\n",
      "8 ^4 + 1 ^4 = 8 ^4\n",
      "hi c\n",
      "hi c\n",
      "HI b\n",
      "hi c\n",
      "hi c\n",
      "hi c\n",
      "hi c\n",
      "hi c\n",
      "hi c\n",
      "hi c\n",
      "hi c\n",
      "hi c\n",
      "hi c\n",
      "HI b\n",
      "hi c\n",
      "hi c\n",
      "hi c\n",
      "hi c\n",
      "hi c\n",
      "hi c\n",
      "hi c\n",
      "hi c\n",
      "hi c\n",
      "hi c\n",
      "HI b\n",
      "hi c\n",
      "hi c\n",
      "hi c\n",
      "hi c\n",
      "hi c\n",
      "hi c\n",
      "hi c\n",
      "hi c\n",
      "hi c\n",
      "hi c\n",
      "HI b\n",
      "hi c\n",
      "hi c\n",
      "hi c\n",
      "hi c\n",
      "hi c\n",
      "hi c\n",
      "hi c\n",
      "hi c\n",
      "hi c\n",
      "hi c\n",
      "HI b\n",
      "hi c\n",
      "hi c\n",
      "hi c\n",
      "hi c\n",
      "hi c\n",
      "hi c\n",
      "hi c\n",
      "hi c\n",
      "hi c\n",
      "hi c\n",
      "HI b\n",
      "hi c\n",
      "hi c\n",
      "hi c\n",
      "hi c\n",
      "hi c\n",
      "hi c\n",
      "hi c\n",
      "hi c\n",
      "hi c\n",
      "hi c\n",
      "HI b\n",
      "hi c\n",
      "hi c\n",
      "hi c\n",
      "hi c\n",
      "hi c\n",
      "hi c\n",
      "hi c\n",
      "hi c\n",
      "hi c\n",
      "hi c\n",
      "HI b\n",
      "hi c\n",
      "hi c\n",
      "hi c\n",
      "hi c\n",
      "hi c\n",
      "hi c\n",
      "hi c\n",
      "hi c\n",
      "hi c\n",
      "hi c\n",
      "HI b\n",
      "hi c\n",
      "hi c\n",
      "hi c\n",
      "hi c\n",
      "hi c\n",
      "hi c\n",
      "hi c\n",
      "hi c\n",
      "hi c\n",
      "hi c\n",
      "HI a\n",
      "HI b\n",
      "hi c\n",
      "hi c\n",
      "hi c\n",
      "hi c\n",
      "hi c\n",
      "hi c\n",
      "hi c\n",
      "hi c\n",
      "hi c\n",
      "9 ^4 + 1 ^4 = 9 ^4\n",
      "hi c\n",
      "HI b\n",
      "hi c\n",
      "hi c\n",
      "hi c\n",
      "hi c\n",
      "hi c\n",
      "hi c\n",
      "hi c\n",
      "hi c\n",
      "hi c\n",
      "hi c\n",
      "HI b\n",
      "hi c\n",
      "hi c\n",
      "hi c\n",
      "hi c\n",
      "hi c\n",
      "hi c\n",
      "hi c\n",
      "hi c\n",
      "hi c\n",
      "hi c\n",
      "HI b\n",
      "hi c\n",
      "hi c\n",
      "hi c\n",
      "hi c\n",
      "hi c\n",
      "hi c\n",
      "hi c\n",
      "hi c\n",
      "hi c\n",
      "hi c\n",
      "HI b\n",
      "hi c\n",
      "hi c\n",
      "hi c\n",
      "hi c\n",
      "hi c\n",
      "hi c\n",
      "hi c\n",
      "hi c\n",
      "hi c\n",
      "hi c\n",
      "HI b\n",
      "hi c\n",
      "hi c\n",
      "hi c\n",
      "hi c\n",
      "hi c\n",
      "hi c\n",
      "hi c\n",
      "hi c\n",
      "hi c\n",
      "hi c\n",
      "HI b\n",
      "hi c\n",
      "hi c\n",
      "hi c\n",
      "hi c\n",
      "hi c\n",
      "hi c\n",
      "hi c\n",
      "hi c\n",
      "hi c\n",
      "hi c\n",
      "HI b\n",
      "hi c\n",
      "hi c\n",
      "hi c\n",
      "hi c\n",
      "hi c\n",
      "hi c\n",
      "hi c\n",
      "hi c\n",
      "hi c\n",
      "hi c\n",
      "HI b\n",
      "hi c\n",
      "hi c\n",
      "hi c\n",
      "hi c\n",
      "hi c\n",
      "hi c\n",
      "hi c\n",
      "hi c\n",
      "hi c\n",
      "hi c\n",
      "HI b\n",
      "hi c\n",
      "hi c\n",
      "hi c\n",
      "hi c\n",
      "hi c\n",
      "hi c\n",
      "hi c\n",
      "hi c\n",
      "hi c\n",
      "hi c\n",
      "HI a\n",
      "HI b\n",
      "hi c\n",
      "hi c\n",
      "hi c\n",
      "hi c\n",
      "hi c\n",
      "hi c\n",
      "hi c\n",
      "hi c\n",
      "hi c\n",
      "hi c\n",
      "10 ^4 + 1 ^4 = 10 ^4\n",
      "HI b\n",
      "hi c\n",
      "hi c\n",
      "hi c\n",
      "hi c\n",
      "hi c\n",
      "hi c\n",
      "hi c\n",
      "hi c\n",
      "hi c\n",
      "hi c\n",
      "HI b\n",
      "hi c\n",
      "hi c\n",
      "hi c\n",
      "hi c\n",
      "hi c\n",
      "hi c\n",
      "hi c\n",
      "hi c\n",
      "hi c\n",
      "hi c\n",
      "HI b\n",
      "hi c\n",
      "hi c\n",
      "hi c\n",
      "hi c\n",
      "hi c\n",
      "hi c\n",
      "hi c\n",
      "hi c\n",
      "hi c\n",
      "hi c\n",
      "HI b\n",
      "hi c\n",
      "hi c\n",
      "hi c\n",
      "hi c\n",
      "hi c\n",
      "hi c\n",
      "hi c\n",
      "hi c\n",
      "hi c\n",
      "hi c\n",
      "HI b\n",
      "hi c\n",
      "hi c\n",
      "hi c\n",
      "hi c\n",
      "hi c\n",
      "hi c\n",
      "hi c\n",
      "hi c\n",
      "hi c\n",
      "hi c\n",
      "HI b\n",
      "hi c\n",
      "hi c\n",
      "hi c\n",
      "hi c\n",
      "hi c\n",
      "hi c\n",
      "hi c\n",
      "hi c\n",
      "hi c\n",
      "hi c\n",
      "HI b\n",
      "hi c\n",
      "hi c\n",
      "hi c\n",
      "hi c\n",
      "hi c\n",
      "hi c\n",
      "hi c\n",
      "hi c\n",
      "hi c\n",
      "hi c\n",
      "HI b\n",
      "hi c\n",
      "hi c\n",
      "hi c\n",
      "hi c\n",
      "hi c\n",
      "hi c\n",
      "hi c\n",
      "hi c\n",
      "hi c\n",
      "hi c\n",
      "HI b\n",
      "hi c\n",
      "hi c\n",
      "hi c\n",
      "hi c\n",
      "hi c\n",
      "hi c\n",
      "hi c\n",
      "hi c\n",
      "hi c\n",
      "hi c\n"
     ]
    }
   ],
   "source": [
    "n = 2\n",
    "print('HI a')\n",
    "for a in range(0,10):\n",
    "    if(a<10):\n",
    "        A = a**n\n",
    "        a = a+1 \n",
    "        print('HI a')\n",
    "        for b in range(0,10):\n",
    "            if(b<10):\n",
    "                B = b**n\n",
    "                b = b+1\n",
    "                print('HI b')\n",
    "                for c in range(0,10):\n",
    "                    if(c<10):\n",
    "                        C = c**n\n",
    "                        c=c+1\n",
    "                        print('hi c')\n",
    "                        if(C==A+B):\n",
    "                            print(a,'^4 +',b,'^4 =',c,'^4') \n",
    "                   "
   ]
  },
  {
   "cell_type": "code",
   "execution_count": 20,
   "metadata": {},
   "outputs": [],
   "source": [
    "def num(a,b):\n",
    "    if a%2==0 and b%2==0:\n",
    "        if(a<b):\n",
    "            print(a)\n",
    "        else:\n",
    "            print(b)\n",
    "    elif(a<b):\n",
    "        print(b)\n",
    "    else:\n",
    "        print(a)"
   ]
  },
  {
   "cell_type": "code",
   "execution_count": 22,
   "metadata": {},
   "outputs": [
    {
     "name": "stdout",
     "output_type": "stream",
     "text": [
      "9\n"
     ]
    }
   ],
   "source": [
    "num(7,9)"
   ]
  },
  {
   "cell_type": "code",
   "execution_count": 46,
   "metadata": {},
   "outputs": [],
   "source": [
    "def animal(text):\n",
    "    wordlist = text.lower().split()\n",
    "    print(wordlist)\n",
    "    \n",
    "    first = wordlist[0]\n",
    "    second = wordlist[1]\n",
    "    \n",
    "    return first[0] == second[0]"
   ]
  },
  {
   "cell_type": "code",
   "execution_count": 49,
   "metadata": {},
   "outputs": [
    {
     "name": "stdout",
     "output_type": "stream",
     "text": [
      "['oev', 'oolded']\n"
     ]
    },
    {
     "data": {
      "text/plain": [
       "True"
      ]
     },
     "execution_count": 49,
     "metadata": {},
     "output_type": "execute_result"
    }
   ],
   "source": [
    "animal('Oev oolded')"
   ]
  },
  {
   "cell_type": "code",
   "execution_count": 50,
   "metadata": {},
   "outputs": [],
   "source": [
    "def make20(a,b):\n",
    "    if a + b == 20:\n",
    "        return True\n",
    "    elif a ==20:\n",
    "        return True\n",
    "    elif b == 20:\n",
    "        return True\n",
    "    else: return False"
   ]
  },
  {
   "cell_type": "code",
   "execution_count": 52,
   "metadata": {},
   "outputs": [
    {
     "data": {
      "text/plain": [
       "True"
      ]
     },
     "execution_count": 52,
     "metadata": {},
     "output_type": "execute_result"
    }
   ],
   "source": [
    "make20(12,8)"
   ]
  },
  {
   "cell_type": "code",
   "execution_count": 61,
   "metadata": {},
   "outputs": [],
   "source": [
    "def upr(name):\n",
    "    first = name[0]\n",
    "    half = name[1:3]\n",
    "    second = name[3]\n",
    "    halff = name[4:]\n",
    "    return first.upper() + half + second.upper() + halff"
   ]
  },
  {
   "cell_type": "code",
   "execution_count": 62,
   "metadata": {},
   "outputs": [
    {
     "data": {
      "text/plain": [
       "'MacDonald'"
      ]
     },
     "execution_count": 62,
     "metadata": {},
     "output_type": "execute_result"
    }
   ],
   "source": [
    "upr('macdonald')"
   ]
  },
  {
   "cell_type": "code",
   "execution_count": 63,
   "metadata": {},
   "outputs": [],
   "source": [
    "def has33(nums):\n",
    "    for i in range(0,len(nums)-1):\n",
    "        if nums[i]==3 and nums[i+1]==3:\n",
    "            return True\n",
    "    return False\n"
   ]
  },
  {
   "cell_type": "code",
   "execution_count": 67,
   "metadata": {},
   "outputs": [
    {
     "data": {
      "text/plain": [
       "False"
      ]
     },
     "execution_count": 67,
     "metadata": {},
     "output_type": "execute_result"
    }
   ],
   "source": [
    "has33([1,3,1,33])"
   ]
  },
  {
   "cell_type": "markdown",
   "metadata": {},
   "source": [
    "## map , filter and lambda"
   ]
  },
  {
   "cell_type": "markdown",
   "metadata": {},
   "source": [
    "\n",
    "## scope variables"
   ]
  },
  {
   "cell_type": "code",
   "execution_count": 1,
   "metadata": {},
   "outputs": [],
   "source": [
    "x = 25\n",
    "\n",
    "def printer():\n",
    "    x=50\n",
    "    return x"
   ]
  },
  {
   "cell_type": "code",
   "execution_count": 2,
   "metadata": {},
   "outputs": [
    {
     "data": {
      "text/plain": [
       "25"
      ]
     },
     "execution_count": 2,
     "metadata": {},
     "output_type": "execute_result"
    }
   ],
   "source": [
    "x #how?"
   ]
  },
  {
   "cell_type": "code",
   "execution_count": 4,
   "metadata": {},
   "outputs": [
    {
     "data": {
      "text/plain": [
       "50"
      ]
     },
     "execution_count": 4,
     "metadata": {},
     "output_type": "execute_result"
    }
   ],
   "source": [
    "printer() #how?"
   ]
  },
  {
   "cell_type": "markdown",
   "metadata": {},
   "source": [
    "## LEGB rules\n",
    "### the way the python looks for variables\n",
    "### local, enclosing, global, built in"
   ]
  },
  {
   "cell_type": "code",
   "execution_count": 5,
   "metadata": {},
   "outputs": [
    {
     "data": {
      "text/plain": [
       "<function __main__.<lambda>(num)>"
      ]
     },
     "execution_count": 5,
     "metadata": {},
     "output_type": "execute_result"
    }
   ],
   "source": [
    "lambda num: num**2  #local variable, num is local for lambda expression"
   ]
  },
  {
   "cell_type": "code",
   "execution_count": 12,
   "metadata": {},
   "outputs": [
    {
     "name": "stdout",
     "output_type": "stream",
     "text": [
      "hello sammy\n"
     ]
    }
   ],
   "source": [
    "name ='this is a global string'  #ex of enclosing function local\n",
    "def greet():\n",
    "    name = 'sammy'\n",
    "    def hello():\n",
    "        print('hello '+name)\n",
    "    hello()\n",
    "greet()"
   ]
  },
  {
   "cell_type": "code",
   "execution_count": 18,
   "metadata": {},
   "outputs": [],
   "source": [
    "x = 50\n",
    "def func(x):\n",
    "    print(f'X is {x}')\n",
    "    \n",
    "    #local reassignment\n",
    "    x = 200\n",
    "    print(f'it just locally changed X to {x}')"
   ]
  },
  {
   "cell_type": "code",
   "execution_count": 19,
   "metadata": {},
   "outputs": [
    {
     "name": "stdout",
     "output_type": "stream",
     "text": [
      "X is 50\n",
      "it just locally changed X to 200\n"
     ]
    }
   ],
   "source": [
    "func(x)"
   ]
  },
  {
   "cell_type": "code",
   "execution_count": 25,
   "metadata": {},
   "outputs": [],
   "source": [
    "string = 'Hello Bolo'"
   ]
  },
  {
   "cell_type": "code",
   "execution_count": 29,
   "metadata": {
    "scrolled": true
   },
   "outputs": [
    {
     "name": "stdout",
     "output_type": "stream",
     "text": [
      "pora\n",
      "pora\n",
      "pora\n",
      "pora\n",
      "pora\n",
      "pora\n",
      "pora\n",
      "pora\n",
      "pora\n",
      "pora\n"
     ]
    }
   ],
   "source": [
    "count1 = 0\n",
    "count2 = 0\n",
    "for i in string:\n",
    "    if i == string.upper():\n",
    "        count1 = count1 + 1\n",
    "        print(count1)\n",
    "    elif i == string.lower():\n",
    "        count2 += count2\n",
    "        print(count2)\n",
    "    else:\n",
    "        print('pora')"
   ]
  },
  {
   "cell_type": "markdown",
   "metadata": {},
   "source": [
    "# Mile stone project 1: tic tac tow"
   ]
  },
  {
   "cell_type": "code",
   "execution_count": 1,
   "metadata": {},
   "outputs": [],
   "source": [
    "#help to clear the screen after u run the code many times\n",
    "from IPython.display import clear_output\n",
    " \n",
    "    #global var\n",
    "board = [' '] * 10\n",
    "game_state = True\n",
    "announce = ''"
   ]
  },
  {
   "cell_type": "code",
   "execution_count": 2,
   "metadata": {},
   "outputs": [],
   "source": [
    "def reset_board():\n",
    "    global board,game_state\n",
    "    board = [' '] * 10\n",
    "    game_state = True"
   ]
  },
  {
   "cell_type": "code",
   "execution_count": null,
   "metadata": {},
   "outputs": [],
   "source": []
  },
  {
   "cell_type": "code",
   "execution_count": null,
   "metadata": {},
   "outputs": [],
   "source": []
  },
  {
   "cell_type": "code",
   "execution_count": 3,
   "metadata": {},
   "outputs": [],
   "source": [
    "#display the board fun\n",
    "def display_board():\n",
    "    clear_output()\n",
    "    print(board[7]+ '|' +board[8]+ '|'+ board[9])\n",
    "    print('-----')\n",
    "    print(board[4]+ '|' +board[5]+ '|'+ board[6])\n",
    "    print('-----')\n",
    "    print(board[1]+ '|' +board[2]+ '|'+ board[3])"
   ]
  },
  {
   "cell_type": "markdown",
   "metadata": {},
   "source": [
    "#### logic to win the game , write all logics like... all rows, columns and diagonals"
   ]
  },
  {
   "cell_type": "code",
   "execution_count": 4,
   "metadata": {},
   "outputs": [],
   "source": [
    "def win_check(board, player):\n",
    "    if (board[7] == board[8] == board[9] == player) or \\\n",
    "        (board[4] == board[5] == board[6] == player) or \\\n",
    "        (board[1] == board[2] == board[3] == player) or \\\n",
    "        (board[7] == board[4] == board[1] == player) or \\\n",
    "        (board[8] == board[5] == board[2] == player) or \\\n",
    "        (board[9] == board[6] == board[3] == player) or \\\n",
    "        (board[1] == board[5] == board[9] == player) or \\\n",
    "        (board[7] == board[5] == board[3] == player):\n",
    "        return True\n",
    "    else: \n",
    "        return False\n",
    "    \n",
    "    "
   ]
  },
  {
   "cell_type": "markdown",
   "metadata": {},
   "source": [
    "#### function to check if the board is full or in case of tie"
   ]
  },
  {
   "cell_type": "code",
   "execution_count": 5,
   "metadata": {},
   "outputs": [],
   "source": [
    "def full_board_check(board):\n",
    "    '''function to check if any remaining blanks are in the board '''\n",
    "    #remember index 0 is always empty\n",
    "    if \" \" in board[1:]:\n",
    "        return False\n",
    "    else: \n",
    "        return True"
   ]
  },
  {
   "cell_type": "markdown",
   "metadata": {},
   "source": [
    "#### function to choose the mark position on the board"
   ]
  },
  {
   "cell_type": "code",
   "execution_count": 6,
   "metadata": {},
   "outputs": [],
   "source": [
    "def ask_player(mark):\n",
    "    '''ask player wr to place X or O and check the validity'''\n",
    "    global board\n",
    "    req = 'choose wr to place your: ' + mark\n",
    "    while True:\n",
    "        try: \n",
    "            choose = int(raw_input(req))\n",
    "        except ValueError:\n",
    "            print(\"sorry, plz input a number from 1-9\")\n",
    "            continue\n",
    "            \n",
    "        if board[choice] == \" \":\n",
    "            board[choice] == mark\n",
    "            break\n",
    "        else: \n",
    "            print (\"that space isnt empty.\")\n",
    "            continue"
   ]
  },
  {
   "cell_type": "code",
   "execution_count": null,
   "metadata": {},
   "outputs": [],
   "source": [
    "def play_game():\n",
    "    reset_board()\n",
    "    global announce\n",
    "    \n",
    "    #set marks\n",
    "    X = 'x'\n",
    "    O = 'o'\n",
    "    while True:\n",
    "        #show board\n",
    "        clear_output()\n",
    "        display_board()\n",
    "        ask_player()\n",
    "        \n",
    "        #player X turn\n",
    "        game_state,announce = player_choice()\n",
    "        print (announce)\n",
    "        if game_state == False:\n",
    "            break\n",
    "            \n",
    "        #player O turn\n",
    "        game_state,announce = player_choice()\n",
    "        print (announce)\n",
    "        if game_state == False:\n",
    "            break\n",
    "            \n",
    "        #ask player for rematch\n",
    "    rematch = raw_input('would you like to play again? y/n')\n",
    "    if rematch == 'y':\n",
    "        play_game()\n",
    "    else:\n",
    "        print (\"thanks for playing!\")"
   ]
  },
  {
   "cell_type": "code",
   "execution_count": null,
   "metadata": {},
   "outputs": [],
   "source": []
  },
  {
   "cell_type": "code",
   "execution_count": null,
   "metadata": {},
   "outputs": [],
   "source": [
    "def player_choice():\n",
    "    marker=''\n",
    "    while marker != 'X' and marker != 'O':\n",
    "        marker = input('player1: choose X or O:').upper()\n",
    "        \n",
    "    if marker == 'X':\n",
    "        return ('X', 'O')\n",
    "    else: \n",
    "        return ('O', 'X')\n",
    "         "
   ]
  },
  {
   "cell_type": "code",
   "execution_count": null,
   "metadata": {},
   "outputs": [],
   "source": [
    "play_game()"
   ]
  },
  {
   "cell_type": "markdown",
   "metadata": {},
   "source": [
    "# Object oriented programming"
   ]
  },
  {
   "cell_type": "code",
   "execution_count": 53,
   "metadata": {},
   "outputs": [],
   "source": [
    " class Dog():\n",
    "        def __init__(self,breed,color,name,age):\n",
    "            #attributes , we take the arguments, assign it using self.atribute_name\n",
    "            #here atttributes are breed, name etc\n",
    "            self.breed = breed\n",
    "            self.color = color\n",
    "            self.name = name\n",
    "            self.age = age"
   ]
  },
  {
   "cell_type": "code",
   "execution_count": 60,
   "metadata": {},
   "outputs": [],
   "source": [
    "Lab = Dog(breed='lab', color= 'black', name= 'puppy', age = 10)"
   ]
  },
  {
   "cell_type": "code",
   "execution_count": 61,
   "metadata": {},
   "outputs": [],
   "source": [
    "husky = Dog(breed ='husky', color = 'white', name = 'aleska' ,age = 5)"
   ]
  },
  {
   "cell_type": "code",
   "execution_count": 63,
   "metadata": {},
   "outputs": [
    {
     "data": {
      "text/plain": [
       "10"
      ]
     },
     "execution_count": 63,
     "metadata": {},
     "output_type": "execute_result"
    }
   ],
   "source": [
    "Lab.age"
   ]
  },
  {
   "cell_type": "code",
   "execution_count": 64,
   "metadata": {},
   "outputs": [
    {
     "data": {
      "text/plain": [
       "'aleska'"
      ]
     },
     "execution_count": 64,
     "metadata": {},
     "output_type": "execute_result"
    }
   ],
   "source": [
    "husky.name"
   ]
  },
  {
   "cell_type": "markdown",
   "metadata": {},
   "source": [
    "### class object attributes"
   ]
  },
  {
   "cell_type": "code",
   "execution_count": 66,
   "metadata": {},
   "outputs": [],
   "source": [
    "#these are attributes to be same for any instances of the class\n",
    "#methods: actions that performed  with the object we created"
   ]
  },
  {
   "cell_type": "code",
   "execution_count": 84,
   "metadata": {},
   "outputs": [],
   "source": [
    " class Dog():\n",
    "        #class obj attribute\n",
    "        #same for any instance of the class\n",
    "        species = 'mammal'\n",
    "        \n",
    "        def __init__(self,breed,color,name,age):\n",
    "            #attributes , we take the arguments, assign it using self.atribute_name\n",
    "            #here atttributes are breed, name etc\n",
    "            self.breed = breed\n",
    "            self.color = color\n",
    "            self.name = name\n",
    "            self.age = age\n",
    "            \n",
    "        #operation/actions ---> methods \n",
    "        #methods are functions defines inside the class\n",
    "        def bark(self, number):\n",
    "            print('woof!!! my name is {} and th number is {}'.format(self.name,number))\n",
    "        "
   ]
  },
  {
   "cell_type": "code",
   "execution_count": 85,
   "metadata": {},
   "outputs": [],
   "source": [
    "Lab1 = Dog('lab','black','puppy',10)"
   ]
  },
  {
   "cell_type": "code",
   "execution_count": 86,
   "metadata": {},
   "outputs": [
    {
     "data": {
      "text/plain": [
       "'mammal'"
      ]
     },
     "execution_count": 86,
     "metadata": {},
     "output_type": "execute_result"
    }
   ],
   "source": [
    "Lab1.species #now we can see species"
   ]
  },
  {
   "cell_type": "code",
   "execution_count": 87,
   "metadata": {},
   "outputs": [
    {
     "data": {
      "text/plain": [
       "'puppy'"
      ]
     },
     "execution_count": 87,
     "metadata": {},
     "output_type": "execute_result"
    }
   ],
   "source": [
    "Lab1.name"
   ]
  },
  {
   "cell_type": "code",
   "execution_count": 89,
   "metadata": {},
   "outputs": [
    {
     "name": "stdout",
     "output_type": "stream",
     "text": [
      "woof!!! my name is puppy and th number is 4\n"
     ]
    }
   ],
   "source": [
    "#for method call inside the class we need () of method \n",
    "Lab1.bark(4)"
   ]
  },
  {
   "cell_type": "code",
   "execution_count": 105,
   "metadata": {},
   "outputs": [],
   "source": [
    "#example 2\n",
    "class Circle():\n",
    "    #class object atribute\n",
    "    pi = 3.14\n",
    "    \n",
    "    def __init__(self,radius = 1):\n",
    "        self.radius = radius\n",
    "        self.area = radius*radius*self.pi\n",
    "    #method\n",
    "    def get_circum(self):\n",
    "        return self.radius*self.pi*2"
   ]
  },
  {
   "cell_type": "code",
   "execution_count": 106,
   "metadata": {},
   "outputs": [],
   "source": [
    "my_circle = Circle(30) #overwriting radius"
   ]
  },
  {
   "cell_type": "code",
   "execution_count": 107,
   "metadata": {},
   "outputs": [
    {
     "data": {
      "text/plain": [
       "3.14"
      ]
     },
     "execution_count": 107,
     "metadata": {},
     "output_type": "execute_result"
    }
   ],
   "source": [
    "my_circle.pi"
   ]
  },
  {
   "cell_type": "code",
   "execution_count": 108,
   "metadata": {},
   "outputs": [
    {
     "data": {
      "text/plain": [
       "30"
      ]
     },
     "execution_count": 108,
     "metadata": {},
     "output_type": "execute_result"
    }
   ],
   "source": [
    "my_circle.radius"
   ]
  },
  {
   "cell_type": "code",
   "execution_count": 109,
   "metadata": {},
   "outputs": [
    {
     "data": {
      "text/plain": [
       "188.4"
      ]
     },
     "execution_count": 109,
     "metadata": {},
     "output_type": "execute_result"
    }
   ],
   "source": [
    "my_circle.get_circum()"
   ]
  },
  {
   "cell_type": "code",
   "execution_count": 111,
   "metadata": {},
   "outputs": [
    {
     "data": {
      "text/plain": [
       "2826.0"
      ]
     },
     "execution_count": 111,
     "metadata": {},
     "output_type": "execute_result"
    }
   ],
   "source": [
    "my_circle.area"
   ]
  },
  {
   "cell_type": "markdown",
   "metadata": {},
   "source": [
    "### inheritance and polymorphism"
   ]
  },
  {
   "cell_type": "code",
   "execution_count": 11,
   "metadata": {},
   "outputs": [],
   "source": [
    "#base class\n",
    "class Animal():\n",
    "    def __init__(self):\n",
    "        print(\"amimal created\")\n",
    "        \n",
    "    def who_am_i(self): #method\n",
    "        print(\"im an animal\")\n",
    "        \n",
    "    def eat(self): #method\n",
    "        print(\"im eating now\")"
   ]
  },
  {
   "cell_type": "code",
   "execution_count": 12,
   "metadata": {},
   "outputs": [
    {
     "name": "stdout",
     "output_type": "stream",
     "text": [
      "amimal created\n"
     ]
    }
   ],
   "source": [
    "ani = Animal()"
   ]
  },
  {
   "cell_type": "code",
   "execution_count": 13,
   "metadata": {},
   "outputs": [
    {
     "name": "stdout",
     "output_type": "stream",
     "text": [
      "im eating now\n"
     ]
    }
   ],
   "source": [
    "ani.eat()"
   ]
  },
  {
   "cell_type": "code",
   "execution_count": 15,
   "metadata": {},
   "outputs": [
    {
     "name": "stdout",
     "output_type": "stream",
     "text": [
      "im an animal\n"
     ]
    }
   ],
   "source": [
    "ani.who_am_i()"
   ]
  },
  {
   "cell_type": "code",
   "execution_count": 32,
   "metadata": {},
   "outputs": [],
   "source": [
    "class Dog(Animal): #inheritance from base class\n",
    "    def __init__(self):\n",
    "        Animal.__init__(self)\n",
    "        print(\"dog created\")\n",
    "        \n",
    "    def eat(self): #overwrite base class method\n",
    "        print(\"im eating biscuits\")\n",
    "        \n",
    "    def bark(self): #add methods\n",
    "        print(\"woooofffff!!!!\")"
   ]
  },
  {
   "cell_type": "code",
   "execution_count": 29,
   "metadata": {},
   "outputs": [
    {
     "name": "stdout",
     "output_type": "stream",
     "text": [
      "amimal created\n",
      "dog created\n"
     ]
    }
   ],
   "source": [
    "mydog = Dog()"
   ]
  },
  {
   "cell_type": "code",
   "execution_count": 30,
   "metadata": {},
   "outputs": [
    {
     "name": "stdout",
     "output_type": "stream",
     "text": [
      "im eating biscuits\n"
     ]
    }
   ],
   "source": [
    "mydog.eat() #old methods are used here also"
   ]
  },
  {
   "cell_type": "code",
   "execution_count": 31,
   "metadata": {},
   "outputs": [
    {
     "name": "stdout",
     "output_type": "stream",
     "text": [
      "woooofffff!!!!\n"
     ]
    }
   ],
   "source": [
    "mydog.bark()"
   ]
  },
  {
   "cell_type": "markdown",
   "metadata": {},
   "source": [
    "### polymorrhism"
   ]
  },
  {
   "cell_type": "code",
   "execution_count": 38,
   "metadata": {},
   "outputs": [],
   "source": [
    "class Dog():\n",
    "    \n",
    "    def __init__(self,name):\n",
    "        self.name = name\n",
    "    \n",
    "    def speak(self):\n",
    "        return self.name + \" says woof!!\""
   ]
  },
  {
   "cell_type": "code",
   "execution_count": 43,
   "metadata": {},
   "outputs": [],
   "source": [
    "class Cat():\n",
    "    \n",
    "    def __init__(self,name):\n",
    "        self.name = name\n",
    "    \n",
    "    def speak(self):\n",
    "        return self.name + \" says meow!!\""
   ]
  },
  {
   "cell_type": "code",
   "execution_count": 44,
   "metadata": {},
   "outputs": [],
   "source": [
    "niko = Dog(\"niko\")\n",
    "kitty = Cat(\"kitty\")"
   ]
  },
  {
   "cell_type": "code",
   "execution_count": 45,
   "metadata": {},
   "outputs": [
    {
     "name": "stdout",
     "output_type": "stream",
     "text": [
      "niko says woof!!\n"
     ]
    }
   ],
   "source": [
    "print(niko.speak())"
   ]
  },
  {
   "cell_type": "code",
   "execution_count": 46,
   "metadata": {},
   "outputs": [
    {
     "name": "stdout",
     "output_type": "stream",
     "text": [
      "kitty says meow!!\n"
     ]
    }
   ],
   "source": [
    "print(kitty.speak())"
   ]
  },
  {
   "cell_type": "code",
   "execution_count": 54,
   "metadata": {},
   "outputs": [
    {
     "name": "stdout",
     "output_type": "stream",
     "text": [
      "<class '__main__.Dog'>\n",
      "niko says woof!!\n",
      "<class '__main__.Cat'>\n",
      "kitty says meow!!\n"
     ]
    }
   ],
   "source": [
    "#method 1 to show polymorph\n",
    "for pet in [niko,kitty]: #list of pets name\n",
    "    print(type(pet)) #print type of the pet \n",
    "    print(pet.speak()) #see what we call same method on 2 classes"
   ]
  },
  {
   "cell_type": "code",
   "execution_count": 57,
   "metadata": {},
   "outputs": [],
   "source": [
    "#method 2 using functions\n",
    "def pet_speak(pet):\n",
    "    print(pet.speak())"
   ]
  },
  {
   "cell_type": "code",
   "execution_count": 58,
   "metadata": {},
   "outputs": [
    {
     "name": "stdout",
     "output_type": "stream",
     "text": [
      "niko says woof!!\n"
     ]
    }
   ],
   "source": [
    "pet_speak(niko)"
   ]
  },
  {
   "cell_type": "code",
   "execution_count": 59,
   "metadata": {},
   "outputs": [
    {
     "name": "stdout",
     "output_type": "stream",
     "text": [
      "kitty says meow!!\n"
     ]
    }
   ],
   "source": [
    "pet_speak(kitty)"
   ]
  },
  {
   "cell_type": "code",
   "execution_count": 71,
   "metadata": {},
   "outputs": [],
   "source": [
    "#special  methods\n",
    "class Book():\n",
    "    def __init__(self,title,author,pages):\n",
    "        self.title = title\n",
    "        self.author = author\n",
    "        self.pages = pages\n",
    "        \n",
    "    def __str__(self):\n",
    "        return f\"{self.title} by {self.author}\"\n",
    "    def __len__(self):\n",
    "        return self.pages"
   ]
  },
  {
   "cell_type": "code",
   "execution_count": 72,
   "metadata": {},
   "outputs": [],
   "source": [
    "b = Book('python rocks','jose', 300)"
   ]
  },
  {
   "cell_type": "code",
   "execution_count": 73,
   "metadata": {},
   "outputs": [
    {
     "name": "stdout",
     "output_type": "stream",
     "text": [
      "python rocks by jose\n"
     ]
    }
   ],
   "source": [
    " print(b)   #asks what is the str rep resentation of b"
   ]
  },
  {
   "cell_type": "code",
   "execution_count": 74,
   "metadata": {},
   "outputs": [
    {
     "data": {
      "text/plain": [
       "'python rocks by jose'"
      ]
     },
     "execution_count": 74,
     "metadata": {},
     "output_type": "execute_result"
    }
   ],
   "source": [
    "str(b) #str version of report we got"
   ]
  },
  {
   "cell_type": "code",
   "execution_count": 75,
   "metadata": {},
   "outputs": [
    {
     "data": {
      "text/plain": [
       "300"
      ]
     },
     "execution_count": 75,
     "metadata": {},
     "output_type": "execute_result"
    }
   ],
   "source": [
    "len(b)"
   ]
  },
  {
   "cell_type": "code",
   "execution_count": 78,
   "metadata": {},
   "outputs": [],
   "source": [
    "del b # delete the variable"
   ]
  },
  {
   "cell_type": "markdown",
   "metadata": {},
   "source": [
    "### home work problems"
   ]
  },
  {
   "cell_type": "code",
   "execution_count": 1,
   "metadata": {},
   "outputs": [],
   "source": [
    "class Line:\n",
    "    \n",
    "    def __init__(self,coord1,coord2):\n",
    "        self.coord1 = coord1\n",
    "        self.coord2 = coord2\n",
    "        \n",
    "    def distance(self):\n",
    "        x1,y1 = self.coord1\n",
    "        x2,y2 = self.coord2\n",
    "        \n",
    "        return ((x2-x1)**2 + (y2-y1)**2)**0.5\n",
    "    \n",
    "    def slope(self):\n",
    "        x1,y1 = self.coord1\n",
    "        x2,y2 = self.coord2\n",
    "        \n",
    "        return (y2-y1) / (x2-x1)\n",
    "    "
   ]
  },
  {
   "cell_type": "code",
   "execution_count": 2,
   "metadata": {},
   "outputs": [],
   "source": [
    "c1 = (3,2)\n",
    "c2 = (8,10)"
   ]
  },
  {
   "cell_type": "code",
   "execution_count": 113,
   "metadata": {},
   "outputs": [],
   "source": [
    "myline = Line(c1,c2)"
   ]
  },
  {
   "cell_type": "code",
   "execution_count": 114,
   "metadata": {},
   "outputs": [
    {
     "data": {
      "text/plain": [
       "9.433981132056603"
      ]
     },
     "execution_count": 114,
     "metadata": {},
     "output_type": "execute_result"
    }
   ],
   "source": [
    "myline.distance()"
   ]
  },
  {
   "cell_type": "code",
   "execution_count": 115,
   "metadata": {},
   "outputs": [
    {
     "data": {
      "text/plain": [
       "1.6"
      ]
     },
     "execution_count": 115,
     "metadata": {},
     "output_type": "execute_result"
    }
   ],
   "source": [
    "myline.slope()"
   ]
  },
  {
   "cell_type": "code",
   "execution_count": 6,
   "metadata": {},
   "outputs": [],
   "source": [
    "### ex 2\n",
    "class Line:\n",
    "    \n",
    "    def __init__(self,coor1,coor2):\n",
    "        self.coor1 = coor1\n",
    "        self.coor2 = coor2\n",
    "        \n",
    "    def distance(self):\n",
    "        x1,y1 = self.coor1\n",
    "        x2,y2 = self.coor2\n",
    "        \n",
    "        return ((x1+y1)+ (x2+y2))\n",
    "    "
   ]
  },
  {
   "cell_type": "code",
   "execution_count": 7,
   "metadata": {},
   "outputs": [],
   "source": [
    "p1 = (1,2)\n",
    "p2 = (2,4)"
   ]
  },
  {
   "cell_type": "code",
   "execution_count": 8,
   "metadata": {},
   "outputs": [],
   "source": [
    "add = Line(p1,p2)"
   ]
  },
  {
   "cell_type": "code",
   "execution_count": 9,
   "metadata": {},
   "outputs": [
    {
     "data": {
      "text/plain": [
       "<bound method Line.distance of <__main__.Line object at 0x000001FC83233E10>>"
      ]
     },
     "execution_count": 9,
     "metadata": {},
     "output_type": "execute_result"
    }
   ],
   "source": [
    "add.distance"
   ]
  },
  {
   "cell_type": "code",
   "execution_count": 10,
   "metadata": {},
   "outputs": [
    {
     "data": {
      "text/plain": [
       "9"
      ]
     },
     "execution_count": 10,
     "metadata": {},
     "output_type": "execute_result"
    }
   ],
   "source": [
    "add.distance()"
   ]
  },
  {
   "cell_type": "code",
   "execution_count": 11,
   "metadata": {},
   "outputs": [
    {
     "data": {
      "text/plain": [
       "7"
      ]
     },
     "execution_count": 11,
     "metadata": {},
     "output_type": "execute_result"
    }
   ],
   "source": [
    "3 + 4"
   ]
  },
  {
   "cell_type": "markdown",
   "metadata": {},
   "source": [
    "### Account program exercise"
   ]
  },
  {
   "cell_type": "code",
   "execution_count": 145,
   "metadata": {},
   "outputs": [],
   "source": [
    "class Account():\n",
    "    \n",
    "    def __init__(self,owner,balance =0):\n",
    "        \n",
    "        self.owner = owner\n",
    "        self.balance = balance\n",
    "        \n",
    "    def deposit(self,dept_amt):\n",
    "        \n",
    "        self.balance = self.balance + dept_amt\n",
    "        print(f\"Added {dept_amt} to the balance\")\n",
    "        \n",
    "    def withdrawl(self, with_amt):\n",
    "        \n",
    "        if self.balance > with_amt:\n",
    "            self.balance = self.balance - with_amt\n",
    "            print(\"withdrawl accepted\")\n",
    "        else :\n",
    "            print (f\"Balance chusko ra puka, anta money ledu, u have {self.balance}\")\n",
    "            \n",
    "    def __str__(self):\n",
    "        return f\"owner : {self.owner} \\nBalance: {self.balance}\""
   ]
  },
  {
   "cell_type": "code",
   "execution_count": 148,
   "metadata": {},
   "outputs": [],
   "source": [
    "a = Account(\"bobby\" , 1000)"
   ]
  },
  {
   "cell_type": "code",
   "execution_count": null,
   "metadata": {},
   "outputs": [],
   "source": [
    "print(a)"
   ]
  },
  {
   "cell_type": "code",
   "execution_count": null,
   "metadata": {},
   "outputs": [],
   "source": [
    "a.deposit(1500)"
   ]
  },
  {
   "cell_type": "code",
   "execution_count": null,
   "metadata": {},
   "outputs": [],
   "source": [
    "a.withdrawl(1000)"
   ]
  },
  {
   "cell_type": "code",
   "execution_count": null,
   "metadata": {},
   "outputs": [],
   "source": [
    "a.withdrawl(1700)"
   ]
  },
  {
   "cell_type": "code",
   "execution_count": null,
   "metadata": {},
   "outputs": [],
   "source": []
  },
  {
   "cell_type": "code",
   "execution_count": null,
   "metadata": {},
   "outputs": [],
   "source": []
  },
  {
   "cell_type": "code",
   "execution_count": null,
   "metadata": {},
   "outputs": [],
   "source": []
  },
  {
   "cell_type": "code",
   "execution_count": null,
   "metadata": {},
   "outputs": [],
   "source": []
  },
  {
   "cell_type": "code",
   "execution_count": null,
   "metadata": {},
   "outputs": [],
   "source": []
  },
  {
   "cell_type": "code",
   "execution_count": null,
   "metadata": {},
   "outputs": [],
   "source": []
  },
  {
   "cell_type": "code",
   "execution_count": null,
   "metadata": {},
   "outputs": [],
   "source": []
  },
  {
   "cell_type": "code",
   "execution_count": null,
   "metadata": {},
   "outputs": [],
   "source": []
  }
 ],
 "metadata": {
  "kernelspec": {
   "display_name": "Python 3",
   "language": "python",
   "name": "python3"
  },
  "language_info": {
   "codemirror_mode": {
    "name": "ipython",
    "version": 3
   },
   "file_extension": ".py",
   "mimetype": "text/x-python",
   "name": "python",
   "nbconvert_exporter": "python",
   "pygments_lexer": "ipython3",
   "version": "3.7.3"
  }
 },
 "nbformat": 4,
 "nbformat_minor": 2
}
