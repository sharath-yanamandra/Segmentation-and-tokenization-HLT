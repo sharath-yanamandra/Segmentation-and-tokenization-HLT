{
 "cells": [
  {
   "cell_type": "code",
   "execution_count": null,
   "metadata": {},
   "outputs": [],
   "source": [
    "from pytube import YouTube\n",
    "#install using pip command\n",
    "#\"pip install pytube\""
   ]
  },
  {
   "cell_type": "code",
   "execution_count": null,
   "metadata": {},
   "outputs": [],
   "source": [
    "link = input(\"enter the url you want to download : \")\n",
    "yt = YouTube(link)\n",
    "videos = yt.streams.all()\n",
    "#will give all formats available to download"
   ]
  },
  {
   "cell_type": "code",
   "execution_count": null,
   "metadata": {},
   "outputs": [],
   "source": [
    "video = list(enumarate(videos))\n",
    "#index of all videos starting from 0\n",
    "for i in video:\n",
    "    print(i)\n",
    "# print all formats in proper index"
   ]
  },
  {
   "cell_type": "code",
   "execution_count": null,
   "metadata": {},
   "outputs": [],
   "source": [
    "print(\" enter the option to download that format.\")\n",
    "dn_option = int(input (\"enter the option: \"))\n",
    "\n",
    "dn_video = videos[dn_option]\n",
    "dn_video.download()\n",
    "#for downloading the video\n"
   ]
  },
  {
   "cell_type": "code",
   "execution_count": null,
   "metadata": {},
   "outputs": [],
   "source": [
    "print (\" download successfully \")"
   ]
  }
 ],
 "metadata": {
  "kernelspec": {
   "display_name": "Python 3",
   "language": "python",
   "name": "python3"
  },
  "language_info": {
   "codemirror_mode": {
    "name": "ipython",
    "version": 3
   },
   "file_extension": ".py",
   "mimetype": "text/x-python",
   "name": "python",
   "nbconvert_exporter": "python",
   "pygments_lexer": "ipython3",
   "version": "3.7.3"
  }
 },
 "nbformat": 4,
 "nbformat_minor": 2
}
